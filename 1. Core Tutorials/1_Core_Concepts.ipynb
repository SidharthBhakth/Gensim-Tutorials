{
  "nbformat": 4,
  "nbformat_minor": 0,
  "metadata": {
    "colab": {
      "name": "1. Core Concepts.ipynb",
      "provenance": [],
      "collapsed_sections": [],
      "authorship_tag": "ABX9TyN3QLpvGd8VsA36anigLK9z"
    },
    "kernelspec": {
      "name": "python3",
      "display_name": "Python 3"
    }
  },
  "cells": [
    {
      "cell_type": "markdown",
      "metadata": {
        "id": "2jrXHUuORa_T",
        "colab_type": "text"
      },
      "source": [
        "# Core Concepts"
      ]
    },
    {
      "cell_type": "code",
      "metadata": {
        "id": "C2AAkQCcDN6K",
        "colab_type": "code",
        "colab": {}
      },
      "source": [
        "from pprint import pprint\n",
        "from collections import defaultdict\n",
        "from gensim import corpora, models, similarities"
      ],
      "execution_count": 0,
      "outputs": []
    },
    {
      "cell_type": "markdown",
      "metadata": {
        "id": "XVVY2yxVEbDJ",
        "colab_type": "text"
      },
      "source": [
        "#### **Document**"
      ]
    },
    {
      "cell_type": "code",
      "metadata": {
        "id": "Y9xivBWxEHz8",
        "colab_type": "code",
        "colab": {}
      },
      "source": [
        "# document - an object of the text sequence type (str)\n",
        "document = \"Human machine interface for lab abc computer applications\""
      ],
      "execution_count": 0,
      "outputs": []
    },
    {
      "cell_type": "markdown",
      "metadata": {
        "id": "fyf2PJfeEeTa",
        "colab_type": "text"
      },
      "source": [
        "#### **Corpus**"
      ]
    },
    {
      "cell_type": "code",
      "metadata": {
        "id": "Hu-qQ3IPEaiD",
        "colab_type": "code",
        "colab": {}
      },
      "source": [
        "# corpus - collection of document objects\n",
        "text_corpus = [\"Human machine interface for lab abc computer applications\",\n",
        "               \"A survey of user opinion of computer system response time\",\n",
        "               \"The EPS user interface management system\",\n",
        "               \"System and human system engineering testing of EPS\",\n",
        "               \"Relation of user perceived response time to error measurement\",\n",
        "               \"The generation of random binary unordered trees\",\n",
        "               \"The intersection graph of paths in trees\",\n",
        "               \"Graph minors IV Widths of trees and well quasi ordering\",\n",
        "               \"Graph minors A survey\"]"
      ],
      "execution_count": 0,
      "outputs": []
    },
    {
      "cell_type": "code",
      "metadata": {
        "id": "hKMlUsg7OYW3",
        "colab_type": "code",
        "colab": {
          "base_uri": "https://localhost:8080/",
          "height": 168
        },
        "outputId": "7e3263af-8bd5-4926-98f3-5c242e05a97e"
      },
      "source": [
        "# Create a set of frequent words\n",
        "stopwords = set('for a of the and to in'.split())\n",
        "\n",
        "# Lowercase each document, split it by white space and filter out stopwords\n",
        "texts = [ [ word for word in document.lower().split() if word not in stopwords ] for document in text_corpus ]\n",
        "pprint(texts)"
      ],
      "execution_count": 4,
      "outputs": [
        {
          "output_type": "stream",
          "text": [
            "[['human', 'machine', 'interface', 'lab', 'abc', 'computer', 'applications'],\n",
            " ['survey', 'user', 'opinion', 'computer', 'system', 'response', 'time'],\n",
            " ['eps', 'user', 'interface', 'management', 'system'],\n",
            " ['system', 'human', 'system', 'engineering', 'testing', 'eps'],\n",
            " ['relation', 'user', 'perceived', 'response', 'time', 'error', 'measurement'],\n",
            " ['generation', 'random', 'binary', 'unordered', 'trees'],\n",
            " ['intersection', 'graph', 'paths', 'trees'],\n",
            " ['graph', 'minors', 'iv', 'widths', 'trees', 'well', 'quasi', 'ordering'],\n",
            " ['graph', 'minors', 'survey']]\n"
          ],
          "name": "stdout"
        }
      ]
    },
    {
      "cell_type": "code",
      "metadata": {
        "id": "-DzXTppAP-0q",
        "colab_type": "code",
        "colab": {
          "base_uri": "https://localhost:8080/",
          "height": 168
        },
        "outputId": "c3f3ef85-8015-4a0f-e2b7-e9acc0519bcf"
      },
      "source": [
        "# Count word frequencies\n",
        "frequency = defaultdict(int)\n",
        "\n",
        "for text in texts:\n",
        "  for token in text:\n",
        "    frequency[token] +=1\n",
        "\n",
        "# Only retain words that appear more than once\n",
        "processed_corpus = [ [ token for token in text if frequency[token] > 1 ] for text in texts ]\n",
        "pprint(processed_corpus)"
      ],
      "execution_count": 5,
      "outputs": [
        {
          "output_type": "stream",
          "text": [
            "[['human', 'interface', 'computer'],\n",
            " ['survey', 'user', 'computer', 'system', 'response', 'time'],\n",
            " ['eps', 'user', 'interface', 'system'],\n",
            " ['system', 'human', 'system', 'eps'],\n",
            " ['user', 'response', 'time'],\n",
            " ['trees'],\n",
            " ['graph', 'trees'],\n",
            " ['graph', 'minors', 'trees'],\n",
            " ['graph', 'minors', 'survey']]\n"
          ],
          "name": "stdout"
        }
      ]
    },
    {
      "cell_type": "code",
      "metadata": {
        "id": "ZD7c7YElRTUo",
        "colab_type": "code",
        "colab": {
          "base_uri": "https://localhost:8080/",
          "height": 54
        },
        "outputId": "ca404b2c-6369-4e1f-b5c8-1925b069f7c8"
      },
      "source": [
        "# Map each word in corpus to a unique integer ID\n",
        "dictionary = corpora.Dictionary(processed_corpus)\n",
        "print(dictionary)"
      ],
      "execution_count": 6,
      "outputs": [
        {
          "output_type": "stream",
          "text": [
            "Dictionary(12 unique tokens: ['computer', 'human', 'interface', 'response', 'survey']...)\n"
          ],
          "name": "stdout"
        }
      ]
    },
    {
      "cell_type": "markdown",
      "metadata": {
        "id": "sLWneo1eYA1D",
        "colab_type": "text"
      },
      "source": [
        "#### **Vector**"
      ]
    },
    {
      "cell_type": "code",
      "metadata": {
        "id": "HyAjzNigSOo8",
        "colab_type": "code",
        "colab": {
          "base_uri": "https://localhost:8080/",
          "height": 218
        },
        "outputId": "3bb029e3-8dec-42d1-a0f5-06ee268dc76a"
      },
      "source": [
        "# Token : integer ID mapping\n",
        "pprint(dictionary.token2id)"
      ],
      "execution_count": 7,
      "outputs": [
        {
          "output_type": "stream",
          "text": [
            "{'computer': 0,\n",
            " 'eps': 8,\n",
            " 'graph': 10,\n",
            " 'human': 1,\n",
            " 'interface': 2,\n",
            " 'minors': 11,\n",
            " 'response': 3,\n",
            " 'survey': 4,\n",
            " 'system': 5,\n",
            " 'time': 6,\n",
            " 'trees': 9,\n",
            " 'user': 7}\n"
          ],
          "name": "stdout"
        }
      ]
    },
    {
      "cell_type": "code",
      "metadata": {
        "id": "jQtRkePRYL9I",
        "colab_type": "code",
        "colab": {
          "base_uri": "https://localhost:8080/",
          "height": 34
        },
        "outputId": "33686adf-bffa-4ea8-a29e-158f9f20653c"
      },
      "source": [
        "new_doc = \"Human computer interaction\"\n",
        "new_vec = dictionary.doc2bow(new_doc.lower().split())\n",
        "pprint(new_vec)"
      ],
      "execution_count": 8,
      "outputs": [
        {
          "output_type": "stream",
          "text": [
            "[(0, 1), (1, 1)]\n"
          ],
          "name": "stdout"
        }
      ]
    },
    {
      "cell_type": "code",
      "metadata": {
        "id": "h4pEvVI-Zk_P",
        "colab_type": "code",
        "colab": {
          "base_uri": "https://localhost:8080/",
          "height": 168
        },
        "outputId": "8e6dcea4-4fb8-4a42-db88-318a1a6782b8"
      },
      "source": [
        "# Bag of words representation\n",
        "bow_corpus = [ dictionary.doc2bow(text) for text in processed_corpus ]\n",
        "pprint(bow_corpus)"
      ],
      "execution_count": 9,
      "outputs": [
        {
          "output_type": "stream",
          "text": [
            "[[(0, 1), (1, 1), (2, 1)],\n",
            " [(0, 1), (3, 1), (4, 1), (5, 1), (6, 1), (7, 1)],\n",
            " [(2, 1), (5, 1), (7, 1), (8, 1)],\n",
            " [(1, 1), (5, 2), (8, 1)],\n",
            " [(3, 1), (6, 1), (7, 1)],\n",
            " [(9, 1)],\n",
            " [(9, 1), (10, 1)],\n",
            " [(9, 1), (10, 1), (11, 1)],\n",
            " [(4, 1), (10, 1), (11, 1)]]\n"
          ],
          "name": "stdout"
        }
      ]
    },
    {
      "cell_type": "markdown",
      "metadata": {
        "id": "FtbgiWAghyKq",
        "colab_type": "text"
      },
      "source": [
        "#### **Model**\n",
        "\n",
        "> *tf-idf*: The tf-idf model transforms vectors from the bag-of-words representation to a vector space where the frequency counts are weighted according to the relative rarity of each word in the corpus.\n",
        "\n"
      ]
    },
    {
      "cell_type": "code",
      "metadata": {
        "id": "4T9rqW_beJ7e",
        "colab_type": "code",
        "colab": {
          "base_uri": "https://localhost:8080/",
          "height": 50
        },
        "outputId": "d7a33e0c-1a5c-4140-e529-aef2bd978f32"
      },
      "source": [
        "# train the model\n",
        "tfidf = models.TfidfModel(bow_corpus)\n",
        "\n",
        "# transform the \"system minors\" string\n",
        "words = \"system minors\".lower().split()\n",
        "print(dictionary.doc2bow(words))\n",
        "print(tfidf[dictionary.doc2bow(words)])"
      ],
      "execution_count": 10,
      "outputs": [
        {
          "output_type": "stream",
          "text": [
            "[(5, 1), (11, 1)]\n",
            "[(5, 0.5898341626740045), (11, 0.8075244024440723)]\n"
          ],
          "name": "stdout"
        }
      ]
    },
    {
      "cell_type": "code",
      "metadata": {
        "id": "2Aje7xQGlheh",
        "colab_type": "code",
        "colab": {}
      },
      "source": [
        "# build index\n",
        "index = similarities.SparseMatrixSimilarity(tfidf[bow_corpus], num_features=12)"
      ],
      "execution_count": 0,
      "outputs": []
    },
    {
      "cell_type": "code",
      "metadata": {
        "id": "vIG5dTCbl0K-",
        "colab_type": "code",
        "colab": {}
      },
      "source": [
        "# create a query document\n",
        "query_document = \"system engineering\".split()\n",
        "query_bow = dictionary.doc2bow(query_document)\n",
        "\n",
        "# query the similarity of our query document against every document in the corpus\n",
        "sims = index[tfidf[query_bow]]"
      ],
      "execution_count": 0,
      "outputs": []
    },
    {
      "cell_type": "code",
      "metadata": {
        "id": "v9sr5E5smf2r",
        "colab_type": "code",
        "colab": {
          "base_uri": "https://localhost:8080/",
          "height": 168
        },
        "outputId": "c51d4f73-9f93-404a-f01a-23be61a59d53"
      },
      "source": [
        "for document_number, score in sorted(enumerate(sims), key=lambda x:x[1], reverse = True):\n",
        "  print(document_number, round(score*100, 2))"
      ],
      "execution_count": 13,
      "outputs": [
        {
          "output_type": "stream",
          "text": [
            "3 71.85\n",
            "2 41.71\n",
            "1 32.45\n",
            "0 0.0\n",
            "4 0.0\n",
            "5 0.0\n",
            "6 0.0\n",
            "7 0.0\n",
            "8 0.0\n"
          ],
          "name": "stdout"
        }
      ]
    },
    {
      "cell_type": "markdown",
      "metadata": {
        "id": "LkK6A5xDm020",
        "colab_type": "text"
      },
      "source": [
        "Document 3 has a similarity score of 72%, document 2 has a similarity score of 42% etc."
      ]
    }
  ]
}