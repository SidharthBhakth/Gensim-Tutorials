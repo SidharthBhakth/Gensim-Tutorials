{
  "nbformat": 4,
  "nbformat_minor": 0,
  "metadata": {
    "colab": {
      "name": "2. Corpora and Vector Spaces.ipynb",
      "provenance": [],
      "authorship_tag": "ABX9TyP+lmhMDXrQ+sgcRkNzeVlY"
    },
    "kernelspec": {
      "name": "python3",
      "display_name": "Python 3"
    }
  },
  "cells": [
    {
      "cell_type": "markdown",
      "metadata": {
        "id": "-ekkjNzzuvL9",
        "colab_type": "text"
      },
      "source": [
        "# Corpora and Vector Spaces"
      ]
    },
    {
      "cell_type": "code",
      "metadata": {
        "id": "M4SfU5GKukpG",
        "colab_type": "code",
        "colab": {}
      },
      "source": [
        "from smart_open import open  # for transparently opening remote files\n",
        "from pprint import pprint\n",
        "from collections import defaultdict\n",
        "import gensim\n",
        "from gensim import corpora\n",
        "import numpy as np\n",
        "import scipy.sparse"
      ],
      "execution_count": 0,
      "outputs": []
    },
    {
      "cell_type": "markdown",
      "metadata": {
        "id": "wO5pMJSjvB5l",
        "colab_type": "text"
      },
      "source": [
        "#### **From Strings to Vectors**"
      ]
    },
    {
      "cell_type": "code",
      "metadata": {
        "id": "M2pGbcRavKFW",
        "colab_type": "code",
        "colab": {}
      },
      "source": [
        "documents = [\"Human machine interface for lab abc computer applications\",\n",
        "              \"A survey of user opinion of computer system response time\",\n",
        "              \"The EPS user interface management system\",\n",
        "              \"System and human system engineering testing of EPS\",\n",
        "              \"Relation of user perceived response time to error measurement\",\n",
        "              \"The generation of random binary unordered trees\",\n",
        "              \"The intersection graph of paths in trees\",\n",
        "              \"Graph minors IV Widths of trees and well quasi ordering\",\n",
        "              \"Graph minors A survey\"]"
      ],
      "execution_count": 0,
      "outputs": []
    },
    {
      "cell_type": "code",
      "metadata": {
        "id": "8NAfWDg_vhv-",
        "colab_type": "code",
        "outputId": "e657ba14-da42-422a-fe75-7e48c0542b0b",
        "colab": {
          "base_uri": "https://localhost:8080/",
          "height": 168
        }
      },
      "source": [
        "# remove common words and tokenize\n",
        "stopwords = set('for a of the and to in'.split())\n",
        "\n",
        "texts = [ [ word for word in document.lower().split() if word not in stopwords ] for document in documents ]\n",
        "\n",
        "frequency = defaultdict(int)\n",
        "for text in texts:\n",
        "  for token in text:\n",
        "    frequency[token] += 1\n",
        "\n",
        "texts = [ [token for token in text if frequency[token] > 1] for text in texts ]\n",
        "\n",
        "pprint(texts)"
      ],
      "execution_count": 3,
      "outputs": [
        {
          "output_type": "stream",
          "text": [
            "[['human', 'interface', 'computer'],\n",
            " ['survey', 'user', 'computer', 'system', 'response', 'time'],\n",
            " ['eps', 'user', 'interface', 'system'],\n",
            " ['system', 'human', 'system', 'eps'],\n",
            " ['user', 'response', 'time'],\n",
            " ['trees'],\n",
            " ['graph', 'trees'],\n",
            " ['graph', 'minors', 'trees'],\n",
            " ['graph', 'minors', 'survey']]\n"
          ],
          "name": "stdout"
        }
      ]
    },
    {
      "cell_type": "code",
      "metadata": {
        "id": "8Krz2tUHyg3Z",
        "colab_type": "code",
        "outputId": "01eead6b-0a3f-422e-86e9-1905ba710a64",
        "colab": {
          "base_uri": "https://localhost:8080/",
          "height": 54
        }
      },
      "source": [
        "# Map each word in corpus to a unique integer ID\n",
        "dictionary = corpora.Dictionary(texts)\n",
        "print(dictionary)"
      ],
      "execution_count": 4,
      "outputs": [
        {
          "output_type": "stream",
          "text": [
            "Dictionary(12 unique tokens: ['computer', 'human', 'interface', 'response', 'survey']...)\n"
          ],
          "name": "stdout"
        }
      ]
    },
    {
      "cell_type": "code",
      "metadata": {
        "id": "uYK6caX_283c",
        "colab_type": "code",
        "outputId": "23e45603-1dc9-4e17-f74d-e8a3bc2ff5cd",
        "colab": {
          "base_uri": "https://localhost:8080/",
          "height": 218
        }
      },
      "source": [
        "# Token : integer ID mapping\n",
        "pprint(dictionary.token2id)"
      ],
      "execution_count": 5,
      "outputs": [
        {
          "output_type": "stream",
          "text": [
            "{'computer': 0,\n",
            " 'eps': 8,\n",
            " 'graph': 10,\n",
            " 'human': 1,\n",
            " 'interface': 2,\n",
            " 'minors': 11,\n",
            " 'response': 3,\n",
            " 'survey': 4,\n",
            " 'system': 5,\n",
            " 'time': 6,\n",
            " 'trees': 9,\n",
            " 'user': 7}\n"
          ],
          "name": "stdout"
        }
      ]
    },
    {
      "cell_type": "code",
      "metadata": {
        "id": "JNmRFIA1E8NB",
        "colab_type": "code",
        "outputId": "68cdeb63-384c-41c5-f5db-09605fc36af5",
        "colab": {
          "base_uri": "https://localhost:8080/",
          "height": 34
        }
      },
      "source": [
        "new_doc = \"Human computer interaction\"\n",
        "new_vec = dictionary.doc2bow(new_doc.lower().split())\n",
        "print(new_vec) # the word \"interaction\" does not appear in the dictionary and is ignored"
      ],
      "execution_count": 6,
      "outputs": [
        {
          "output_type": "stream",
          "text": [
            "[(0, 1), (1, 1)]\n"
          ],
          "name": "stdout"
        }
      ]
    },
    {
      "cell_type": "code",
      "metadata": {
        "id": "lxSLtcPLFT2D",
        "colab_type": "code",
        "outputId": "a28de968-a0eb-4c9a-d2bb-6c6c3a320e06",
        "colab": {
          "base_uri": "https://localhost:8080/",
          "height": 168
        }
      },
      "source": [
        "corpus = [ dictionary.doc2bow(text) for text in texts ]\n",
        "pprint(corpus)"
      ],
      "execution_count": 7,
      "outputs": [
        {
          "output_type": "stream",
          "text": [
            "[[(0, 1), (1, 1), (2, 1)],\n",
            " [(0, 1), (3, 1), (4, 1), (5, 1), (6, 1), (7, 1)],\n",
            " [(2, 1), (5, 1), (7, 1), (8, 1)],\n",
            " [(1, 1), (5, 2), (8, 1)],\n",
            " [(3, 1), (6, 1), (7, 1)],\n",
            " [(9, 1)],\n",
            " [(9, 1), (10, 1)],\n",
            " [(9, 1), (10, 1), (11, 1)],\n",
            " [(4, 1), (10, 1), (11, 1)]]\n"
          ],
          "name": "stdout"
        }
      ]
    },
    {
      "cell_type": "markdown",
      "metadata": {
        "id": "21pxyQm2HJDk",
        "colab_type": "text"
      },
      "source": [
        "#### **Corpus Streaming – One Document at a Time**"
      ]
    },
    {
      "cell_type": "code",
      "metadata": {
        "id": "xEnGGT-BHGDz",
        "colab_type": "code",
        "colab": {}
      },
      "source": [
        "class MyCorpus(object):\n",
        "  \"\"\"\n",
        "  Streaming Corpus Interface:\n",
        "  This flexibility allows you to create your own corpus classes that stream the\n",
        "  documents directly from disk, network, database, dataframes... \n",
        "  The models in Gensim are implemented such that they don't require all vectors to reside\n",
        "  in RAM at once. You can even create the documents on the fly!\n",
        "  \"\"\"\n",
        "  def __iter__(self):\n",
        "    for line in open('https://raw.githubusercontent.com/RaRe-Technologies/gensim/develop/docs/notebooks/datasets/mycorpus.txt'):\n",
        "      # Assume there is one document per line, tokens separated by whitespace\n",
        "      yield dictionary.doc2bow(line.lower().split())"
      ],
      "execution_count": 0,
      "outputs": []
    },
    {
      "cell_type": "code",
      "metadata": {
        "id": "XtXZlUn4IIJt",
        "colab_type": "code",
        "outputId": "7d46f793-ba51-484a-e187-9bcb2ea68119",
        "colab": {
          "base_uri": "https://localhost:8080/",
          "height": 168
        }
      },
      "source": [
        "# Instantiate corpus object\n",
        "corpus_memory_friendly = MyCorpus()\n",
        "\n",
        "# load one vector at a time into memory\n",
        "for vector in corpus_memory_friendly:\n",
        "  print(vector)"
      ],
      "execution_count": 9,
      "outputs": [
        {
          "output_type": "stream",
          "text": [
            "[(0, 1), (1, 1), (2, 1)]\n",
            "[(0, 1), (3, 1), (4, 1), (5, 1), (6, 1), (7, 1)]\n",
            "[(2, 1), (5, 1), (7, 1), (8, 1)]\n",
            "[(1, 1), (5, 2), (8, 1)]\n",
            "[(3, 1), (6, 1), (7, 1)]\n",
            "[(9, 1)]\n",
            "[(9, 1), (10, 1)]\n",
            "[(9, 1), (10, 1), (11, 1)]\n",
            "[(4, 1), (10, 1), (11, 1)]\n"
          ],
          "name": "stdout"
        }
      ]
    },
    {
      "cell_type": "code",
      "metadata": {
        "id": "cCltRf68K5FD",
        "colab_type": "code",
        "outputId": "6a2abb0b-125c-4488-c552-bc145fe11071",
        "colab": {
          "base_uri": "https://localhost:8080/",
          "height": 722
        }
      },
      "source": [
        "# construct the dictionary without loading all texts into memory\n",
        "dictionary = corpora.Dictionary(line.lower().split() for line in open('https://raw.githubusercontent.com/RaRe-Technologies/gensim/develop/docs/notebooks/datasets/mycorpus.txt'))\n",
        "\n",
        "# Token : integer ID mapping\n",
        "pprint(dictionary.token2id)"
      ],
      "execution_count": 10,
      "outputs": [
        {
          "output_type": "stream",
          "text": [
            "{'a': 8,\n",
            " 'abc': 0,\n",
            " 'and': 19,\n",
            " 'applications': 1,\n",
            " 'binary': 27,\n",
            " 'computer': 2,\n",
            " 'engineering': 20,\n",
            " 'eps': 16,\n",
            " 'error': 22,\n",
            " 'for': 3,\n",
            " 'generation': 28,\n",
            " 'graph': 32,\n",
            " 'human': 4,\n",
            " 'in': 33,\n",
            " 'interface': 5,\n",
            " 'intersection': 34,\n",
            " 'iv': 36,\n",
            " 'lab': 6,\n",
            " 'machine': 7,\n",
            " 'management': 17,\n",
            " 'measurement': 23,\n",
            " 'minors': 37,\n",
            " 'of': 9,\n",
            " 'opinion': 10,\n",
            " 'ordering': 38,\n",
            " 'paths': 35,\n",
            " 'perceived': 24,\n",
            " 'quasi': 39,\n",
            " 'random': 29,\n",
            " 'relation': 25,\n",
            " 'response': 11,\n",
            " 'survey': 12,\n",
            " 'system': 13,\n",
            " 'testing': 21,\n",
            " 'the': 18,\n",
            " 'time': 14,\n",
            " 'to': 26,\n",
            " 'trees': 30,\n",
            " 'unordered': 31,\n",
            " 'user': 15,\n",
            " 'well': 40,\n",
            " 'widths': 41}\n"
          ],
          "name": "stdout"
        }
      ]
    },
    {
      "cell_type": "code",
      "metadata": {
        "id": "3X67eb2HMp9k",
        "colab_type": "code",
        "outputId": "de006b10-b6f7-47eb-d2dc-57508dca7825",
        "colab": {
          "base_uri": "https://localhost:8080/",
          "height": 54
        }
      },
      "source": [
        "# remove stopwords and words that occur only once\n",
        "stop_ids =  [ dictionary.token2id[stopword] for stopword in stopwords if stopword in dictionary.token2id ]\n",
        "once_ids = [ tokenid for tokenid, docfreq in dictionary.dfs.items() if docfreq == 1 ]\n",
        "\n",
        "dictionary.filter_tokens(stop_ids + once_ids)\n",
        "\n",
        "# remove gaps in id sequence after words that were removed\n",
        "dictionary.compactify()\n",
        "\n",
        "print(dictionary)"
      ],
      "execution_count": 11,
      "outputs": [
        {
          "output_type": "stream",
          "text": [
            "Dictionary(12 unique tokens: ['computer', 'human', 'interface', 'response', 'survey']...)\n"
          ],
          "name": "stdout"
        }
      ]
    },
    {
      "cell_type": "markdown",
      "metadata": {
        "id": "53CvBKmFKkyH",
        "colab_type": "text"
      },
      "source": [
        "#### **Corpus Formats**"
      ]
    },
    {
      "cell_type": "code",
      "metadata": {
        "id": "0wSSn8VPewfW",
        "colab_type": "code",
        "colab": {
          "base_uri": "https://localhost:8080/",
          "height": 70
        },
        "outputId": "0f07acfe-bde0-4266-b8df-19f3a000b627"
      },
      "source": [
        "# Create a toy corpus of 2 documents with one empty document\n",
        "corpus = [[(1, 0.5)], []]\n",
        "\n",
        "# save corpus in the Matrix Market format\n",
        "corpora.MmCorpus.serialize('/corpus.mm', corpus)\n",
        "\n",
        "# save corpus in the Joachim's SVMlight format\n",
        "corpora.SvmLightCorpus.serialize('/corpus.svmlight', corpus)\n",
        "\n",
        "# save corpus in the Blei's LDA-C format\n",
        "corpora.BleiCorpus.serialize('/corpus.lda-c', corpus)\n",
        "\n",
        "# save corpus in the Gibbs LDA++ format\n",
        "corpora.LowCorpus.serialize('/corpus.low', corpus)"
      ],
      "execution_count": 12,
      "outputs": [
        {
          "output_type": "stream",
          "text": [
            "/usr/local/lib/python3.6/dist-packages/smart_open/smart_open_lib.py:253: UserWarning: This function is deprecated, use smart_open.open instead. See the migration notes for details: https://github.com/RaRe-Technologies/smart_open/blob/master/README.rst#migrating-to-the-new-open-function\n",
            "  'See the migration notes for details: %s' % _MIGRATION_NOTES_URL\n"
          ],
          "name": "stderr"
        }
      ]
    },
    {
      "cell_type": "code",
      "metadata": {
        "id": "oLZyTclLg4n_",
        "colab_type": "code",
        "colab": {
          "base_uri": "https://localhost:8080/",
          "height": 104
        },
        "outputId": "e957c804-9717-4820-bc0d-a6524993edf3"
      },
      "source": [
        "# Load a corpus iterator from file\n",
        "corpus = corpora.MmCorpus('/corpus.mm')\n",
        "\n",
        "# Print one document at a time making use of the streaming interface\n",
        "for doc in corpus:\n",
        "  print(doc)"
      ],
      "execution_count": 13,
      "outputs": [
        {
          "output_type": "stream",
          "text": [
            "[(1, 0.5)]\n",
            "[]\n"
          ],
          "name": "stdout"
        },
        {
          "output_type": "stream",
          "text": [
            "/usr/local/lib/python3.6/dist-packages/smart_open/smart_open_lib.py:253: UserWarning: This function is deprecated, use smart_open.open instead. See the migration notes for details: https://github.com/RaRe-Technologies/smart_open/blob/master/README.rst#migrating-to-the-new-open-function\n",
            "  'See the migration notes for details: %s' % _MIGRATION_NOTES_URL\n"
          ],
          "name": "stderr"
        }
      ]
    },
    {
      "cell_type": "markdown",
      "metadata": {
        "id": "FmYNsBkXkXB-",
        "colab_type": "text"
      },
      "source": [
        "#### **Compatibility with NumPy and SciPy**"
      ]
    },
    {
      "cell_type": "code",
      "metadata": {
        "id": "-juoiERVhgCK",
        "colab_type": "code",
        "colab": {}
      },
      "source": [
        "# random numpy array\n",
        "numpy_matrix = np.random.randint(10, size=(5,2))\n",
        "\n",
        "corpus = gensim.matutils.Dense2Corpus(numpy_matrix)"
      ],
      "execution_count": 0,
      "outputs": []
    },
    {
      "cell_type": "code",
      "metadata": {
        "id": "DOtyzLIxixbD",
        "colab_type": "code",
        "colab": {}
      },
      "source": [
        "# random sparse matrix\n",
        "scipy_sparse_matrix = scipy.sparse.random(5,2)\n",
        "\n",
        "corpus = gensim.matutils.Sparse2Corpus(scipy_sparse_matrix)\n",
        "scipy_csc_matrix = gensim.matutils.corpus2csc(corpus)"
      ],
      "execution_count": 0,
      "outputs": []
    }
  ]
}