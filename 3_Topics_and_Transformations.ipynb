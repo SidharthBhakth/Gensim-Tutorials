{
  "nbformat": 4,
  "nbformat_minor": 0,
  "metadata": {
    "colab": {
      "name": "3. Topics and Transformations.ipynb",
      "provenance": [],
      "collapsed_sections": [],
      "authorship_tag": "ABX9TyNOL1Yjnlm8miSsGt4J6H0a",
      "include_colab_link": true
    },
    "kernelspec": {
      "name": "python3",
      "display_name": "Python 3"
    }
  },
  "cells": [
    {
      "cell_type": "markdown",
      "metadata": {
        "id": "view-in-github",
        "colab_type": "text"
      },
      "source": [
        "<a href=\"https://colab.research.google.com/github/SidharthBhakth/Gensim-Tutorials/blob/master/3_Topics_and_Transformations.ipynb\" target=\"_parent\"><img src=\"https://colab.research.google.com/assets/colab-badge.svg\" alt=\"Open In Colab\"/></a>"
      ]
    },
    {
      "cell_type": "markdown",
      "metadata": {
        "id": "afQwLGwJmHsn",
        "colab_type": "text"
      },
      "source": [
        "# Topics and Transformations"
      ]
    },
    {
      "cell_type": "code",
      "metadata": {
        "id": "p2RfIO3YnDzM",
        "colab_type": "code",
        "colab": {}
      },
      "source": [
        "from pprint import pprint\n",
        "from collections import defaultdict\n",
        "from gensim import corpora, models"
      ],
      "execution_count": 0,
      "outputs": []
    },
    {
      "cell_type": "markdown",
      "metadata": {
        "id": "vx02jBSdmazj",
        "colab_type": "text"
      },
      "source": [
        "### **Creating the Corpus**"
      ]
    },
    {
      "cell_type": "code",
      "metadata": {
        "id": "b8m81LYcmHZZ",
        "colab_type": "code",
        "colab": {}
      },
      "source": [
        "documents = [\"Human machine interface for lab abc computer applications\",\n",
        "              \"A survey of user opinion of computer system response time\",\n",
        "              \"The EPS user interface management system\",\n",
        "              \"System and human system engineering testing of EPS\",\n",
        "              \"Relation of user perceived response time to error measurement\",\n",
        "              \"The generation of random binary unordered trees\",\n",
        "              \"The intersection graph of paths in trees\",\n",
        "              \"Graph minors IV Widths of trees and well quasi ordering\",\n",
        "              \"Graph minors A survey\"]"
      ],
      "execution_count": 0,
      "outputs": []
    },
    {
      "cell_type": "code",
      "metadata": {
        "id": "ODHiYQiPl-bY",
        "colab_type": "code",
        "colab": {
          "base_uri": "https://localhost:8080/",
          "height": 168
        },
        "outputId": "0fe95f67-3e68-49e1-cbd8-642055fe1001"
      },
      "source": [
        "# remove common words and tokenize\n",
        "stopwords = set('for a of the and to in'.split())\n",
        "\n",
        "texts = [ [ word for word in document.lower().split() if word not in stopwords ] for document in documents ]\n",
        "\n",
        "# remove words that appear only once\n",
        "frequency = defaultdict(int)\n",
        "for text in texts:\n",
        "  for token in text:\n",
        "    frequency[token] += 1\n",
        "\n",
        "texts = [ [token for token in text if frequency[token] > 1] for text in texts ]\n",
        "\n",
        "# Map each word in corpus to a unique integer ID\n",
        "dictionary = corpora.Dictionary(texts)\n",
        "\n",
        "# Build corpus with BoW representation\n",
        "corpus = [ dictionary.doc2bow(text) for text in texts ]\n",
        "\n",
        "pprint(corpus)"
      ],
      "execution_count": 3,
      "outputs": [
        {
          "output_type": "stream",
          "text": [
            "[[(0, 1), (1, 1), (2, 1)],\n",
            " [(0, 1), (3, 1), (4, 1), (5, 1), (6, 1), (7, 1)],\n",
            " [(2, 1), (5, 1), (7, 1), (8, 1)],\n",
            " [(1, 1), (5, 2), (8, 1)],\n",
            " [(3, 1), (6, 1), (7, 1)],\n",
            " [(9, 1)],\n",
            " [(9, 1), (10, 1)],\n",
            " [(9, 1), (10, 1), (11, 1)],\n",
            " [(4, 1), (10, 1), (11, 1)]]\n"
          ],
          "name": "stdout"
        }
      ]
    },
    {
      "cell_type": "markdown",
      "metadata": {
        "id": "ZlECR9bAqBTN",
        "colab_type": "text"
      },
      "source": [
        "***Creating a transformation and transforming vectors***"
      ]
    },
    {
      "cell_type": "code",
      "metadata": {
        "id": "Eb2CqivwqGLg",
        "colab_type": "code",
        "colab": {
          "base_uri": "https://localhost:8080/",
          "height": 34
        },
        "outputId": "73372907-0a62-47e0-8d05-c970eb662623"
      },
      "source": [
        "# Initialize a tf-idf transformation\n",
        "tfidf = models.TfidfModel(corpus)\n",
        "\n",
        "# Create a simple BoW corpus and transform\n",
        "doc_bow = [(0,1), (1,1)]\n",
        "print(tfidf[doc_bow])"
      ],
      "execution_count": 4,
      "outputs": [
        {
          "output_type": "stream",
          "text": [
            "[(0, 0.7071067811865476), (1, 0.7071067811865476)]\n"
          ],
          "name": "stdout"
        }
      ]
    },
    {
      "cell_type": "code",
      "metadata": {
        "id": "T8inzgN3uQxg",
        "colab_type": "code",
        "colab": {
          "base_uri": "https://localhost:8080/",
          "height": 188
        },
        "outputId": "0d62332f-a29d-4357-f6db-998cececf88a"
      },
      "source": [
        "# Apply tf-idf transformation to a whole corpus\n",
        "corpus_tfidf = tfidf[corpus]\n",
        "\n",
        "for doc in corpus_tfidf:\n",
        "  print(doc)"
      ],
      "execution_count": 5,
      "outputs": [
        {
          "output_type": "stream",
          "text": [
            "[(0, 0.5773502691896257), (1, 0.5773502691896257), (2, 0.5773502691896257)]\n",
            "[(0, 0.44424552527467476), (3, 0.44424552527467476), (4, 0.44424552527467476), (5, 0.3244870206138555), (6, 0.44424552527467476), (7, 0.3244870206138555)]\n",
            "[(2, 0.5710059809418182), (5, 0.4170757362022777), (7, 0.4170757362022777), (8, 0.5710059809418182)]\n",
            "[(1, 0.49182558987264147), (5, 0.7184811607083769), (8, 0.49182558987264147)]\n",
            "[(3, 0.6282580468670046), (6, 0.6282580468670046), (7, 0.45889394536615247)]\n",
            "[(9, 1.0)]\n",
            "[(9, 0.7071067811865475), (10, 0.7071067811865475)]\n",
            "[(9, 0.5080429008916749), (10, 0.5080429008916749), (11, 0.695546419520037)]\n",
            "[(4, 0.6282580468670046), (10, 0.45889394536615247), (11, 0.6282580468670046)]\n"
          ],
          "name": "stdout"
        }
      ]
    },
    {
      "cell_type": "code",
      "metadata": {
        "id": "7FRwGLqUuqQY",
        "colab_type": "code",
        "colab": {}
      },
      "source": [
        "# Initialize an LSI transformation\n",
        "lsi_model = models.LsiModel(corpus_tfidf, id2word=dictionary, num_topics=2)\n",
        "\n",
        "# Create a double wrapper over the original corpus\n",
        "# bow -> tf-idf -> fold-in LSI\n",
        "corpus_lsi = lsi_model[corpus_tfidf]"
      ],
      "execution_count": 0,
      "outputs": []
    },
    {
      "cell_type": "code",
      "metadata": {
        "id": "OM3p5GaXldI4",
        "colab_type": "code",
        "colab": {
          "base_uri": "https://localhost:8080/",
          "height": 104
        },
        "outputId": "68fe20a2-8c32-4c6d-ed5c-d80d7c689c8c"
      },
      "source": [
        "lsi_model.print_topics(2)"
      ],
      "execution_count": 7,
      "outputs": [
        {
          "output_type": "execute_result",
          "data": {
            "text/plain": [
              "[(0,\n",
              "  '0.703*\"trees\" + 0.538*\"graph\" + 0.402*\"minors\" + 0.187*\"survey\" + 0.061*\"system\" + 0.060*\"response\" + 0.060*\"time\" + 0.058*\"user\" + 0.049*\"computer\" + 0.035*\"interface\"'),\n",
              " (1,\n",
              "  '-0.460*\"system\" + -0.373*\"user\" + -0.332*\"eps\" + -0.328*\"interface\" + -0.320*\"response\" + -0.320*\"time\" + -0.293*\"computer\" + -0.280*\"human\" + -0.171*\"survey\" + 0.161*\"trees\"')]"
            ]
          },
          "metadata": {
            "tags": []
          },
          "execution_count": 7
        }
      ]
    },
    {
      "cell_type": "code",
      "metadata": {
        "id": "vnREy9QJtWhI",
        "colab_type": "code",
        "colab": {
          "base_uri": "https://localhost:8080/",
          "height": 188
        },
        "outputId": "d66d46b5-b3ed-439f-fffc-28af1a258289"
      },
      "source": [
        "# Both bow->tf-idf and tf-idf->lsi transformations are actually executed on the fly\n",
        "for doc, as_text in zip(corpus_lsi, documents):\n",
        "  print(doc, as_text)"
      ],
      "execution_count": 8,
      "outputs": [
        {
          "output_type": "stream",
          "text": [
            "[(0, 0.06600783396090441), (1, -0.5200703306361848)] Human machine interface for lab abc computer applications\n",
            "[(0, 0.19667592859142738), (1, -0.7609563167700045)] A survey of user opinion of computer system response time\n",
            "[(0, 0.08992639972446631), (1, -0.7241860626752505)] The EPS user interface management system\n",
            "[(0, 0.0758584765217835), (1, -0.6320551586003426)] System and human system engineering testing of EPS\n",
            "[(0, 0.10150299184980335), (1, -0.5737308483002954)] Relation of user perceived response time to error measurement\n",
            "[(0, 0.7032108939378303), (1, 0.16115180214026015)] The generation of random binary unordered trees\n",
            "[(0, 0.8774787673119824), (1, 0.16758906864659684)] The intersection graph of paths in trees\n",
            "[(0, 0.9098624686818575), (1, 0.14086553628719312)] Graph minors IV Widths of trees and well quasi ordering\n",
            "[(0, 0.6165825350569285), (1, -0.05392907566389181)] Graph minors A survey\n"
          ],
          "name": "stdout"
        }
      ]
    }
  ]
}