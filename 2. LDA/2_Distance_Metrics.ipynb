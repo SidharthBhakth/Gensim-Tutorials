{
  "nbformat": 4,
  "nbformat_minor": 0,
  "metadata": {
    "colab": {
      "name": "2. Distance Metrics.ipynb",
      "provenance": [],
      "collapsed_sections": []
    },
    "kernelspec": {
      "name": "python3",
      "display_name": "Python 3"
    }
  },
  "cells": [
    {
      "cell_type": "markdown",
      "metadata": {
        "id": "LLy0A1Ij7AIV",
        "colab_type": "text"
      },
      "source": [
        "# Distance Metrics"
      ]
    },
    {
      "cell_type": "code",
      "metadata": {
        "id": "xOW-N3eI-ZqC",
        "colab_type": "code",
        "colab": {}
      },
      "source": [
        "import logging\n",
        "logging.basicConfig(format='%(asctime)s : %(levelname)s : %(message)s', level=logging.INFO)"
      ],
      "execution_count": null,
      "outputs": []
    },
    {
      "cell_type": "code",
      "metadata": {
        "id": "RNZ2_2SK6Std",
        "colab_type": "code",
        "colab": {
          "base_uri": "https://localhost:8080/",
          "height": 54
        },
        "outputId": "2da35505-1893-43dd-8688-700395789dbb"
      },
      "source": [
        "import numpy as np\n",
        "np.random.seed(1) # Set seed for reproducibility\n",
        "\n",
        "from gensim.corpora import Dictionary\n",
        "from gensim.models import ldamodel\n",
        "from gensim.matutils import hellinger, jaccard, kullback_leibler\n",
        "\n",
        "import itertools\n",
        "import networkx as nx"
      ],
      "execution_count": null,
      "outputs": [
        {
          "output_type": "stream",
          "text": [
            "2020-06-18 03:42:00,397 : INFO : 'pattern' package not found; tag filters are not available for English\n"
          ],
          "name": "stderr"
        }
      ]
    },
    {
      "cell_type": "code",
      "metadata": {
        "id": "mgy28gWw9xbj",
        "colab_type": "code",
        "colab": {
          "base_uri": "https://localhost:8080/",
          "height": 70
        },
        "outputId": "ae767a82-bd80-4e5f-a9ae-539b94dcca52"
      },
      "source": [
        "# toy corpus for illustrative purposes\n",
        "texts = [['bank','river','shore','water'],\n",
        "        ['river','water','flow','fast','tree'],\n",
        "        ['bank','water','fall','flow'],\n",
        "        ['bank','bank','water','rain','river'],\n",
        "        ['river','water','mud','tree'],\n",
        "        ['money','transaction','bank','finance'],\n",
        "        ['bank','borrow','money'],\n",
        "        ['bank','finance'],\n",
        "        ['finance','money','sell','bank'],\n",
        "        ['borrow','sell'],\n",
        "        ['bank','loan','sell']]\n",
        "\n",
        "dictionary = Dictionary(texts)\n",
        "corpus = [ dictionary.doc2bow(text) for text in texts ]"
      ],
      "execution_count": null,
      "outputs": [
        {
          "output_type": "stream",
          "text": [
            "2020-06-18 03:42:00,567 : INFO : adding document #0 to Dictionary(0 unique tokens: [])\n",
            "2020-06-18 03:42:00,569 : INFO : built Dictionary(16 unique tokens: ['bank', 'river', 'shore', 'water', 'fast']...) from 11 documents (total 40 corpus positions)\n"
          ],
          "name": "stderr"
        }
      ]
    },
    {
      "cell_type": "code",
      "metadata": {
        "id": "Zal9hzZ1-OxQ",
        "colab_type": "code",
        "colab": {
          "base_uri": "https://localhost:8080/",
          "height": 205
        },
        "outputId": "c6e6f1b1-f3c7-426b-ddad-ca55b0244e5e"
      },
      "source": [
        "# Train LDA model\n",
        "model = ldamodel.LdaModel(corpus, id2word=dictionary, num_topics=2, minimum_probability=1e-8)"
      ],
      "execution_count": null,
      "outputs": [
        {
          "output_type": "stream",
          "text": [
            "2020-06-18 03:42:00,576 : INFO : using symmetric alpha at 0.5\n",
            "2020-06-18 03:42:00,578 : INFO : using symmetric eta at 0.5\n",
            "2020-06-18 03:42:00,579 : INFO : using serial LDA version on this node\n",
            "2020-06-18 03:42:00,580 : INFO : running online (single-pass) LDA training, 2 topics, 1 passes over the supplied corpus of 11 documents, updating model once every 11 documents, evaluating perplexity every 11 documents, iterating 50x with a convergence threshold of 0.001000\n",
            "2020-06-18 03:42:00,580 : WARNING : too few updates, training might not converge; consider increasing the number of passes or iterations to improve accuracy\n",
            "2020-06-18 03:42:00,601 : INFO : -3.572 per-word bound, 11.9 perplexity estimate based on a held-out corpus of 11 documents with 40 words\n",
            "2020-06-18 03:42:00,602 : INFO : PROGRESS: pass 0, at document #11/11\n",
            "2020-06-18 03:42:00,619 : INFO : topic #0 (0.500): 0.207*\"bank\" + 0.100*\"water\" + 0.089*\"river\" + 0.088*\"sell\" + 0.067*\"borrow\" + 0.064*\"finance\" + 0.062*\"money\" + 0.053*\"tree\" + 0.045*\"flow\" + 0.044*\"rain\"\n",
            "2020-06-18 03:42:00,620 : INFO : topic #1 (0.500): 0.142*\"bank\" + 0.116*\"water\" + 0.090*\"river\" + 0.084*\"money\" + 0.081*\"finance\" + 0.064*\"flow\" + 0.055*\"transaction\" + 0.055*\"tree\" + 0.053*\"fall\" + 0.050*\"mud\"\n",
            "2020-06-18 03:42:00,621 : INFO : topic diff=0.585019, rho=1.000000\n"
          ],
          "name": "stderr"
        }
      ]
    },
    {
      "cell_type": "code",
      "metadata": {
        "id": "VXg_jHNj_nEK",
        "colab_type": "code",
        "colab": {
          "base_uri": "https://localhost:8080/",
          "height": 104
        },
        "outputId": "fbfae7d0-253d-410f-dadb-bab9be71bc03"
      },
      "source": [
        "# Topics learned by the model\n",
        "model.show_topics()"
      ],
      "execution_count": null,
      "outputs": [
        {
          "output_type": "execute_result",
          "data": {
            "text/plain": [
              "[(0,\n",
              "  '0.207*\"bank\" + 0.100*\"water\" + 0.089*\"river\" + 0.088*\"sell\" + 0.067*\"borrow\" + 0.064*\"finance\" + 0.062*\"money\" + 0.053*\"tree\" + 0.045*\"flow\" + 0.044*\"rain\"'),\n",
              " (1,\n",
              "  '0.142*\"bank\" + 0.116*\"water\" + 0.090*\"river\" + 0.084*\"money\" + 0.081*\"finance\" + 0.064*\"flow\" + 0.055*\"transaction\" + 0.055*\"tree\" + 0.053*\"fall\" + 0.050*\"mud\"')]"
            ]
          },
          "metadata": {
            "tags": []
          },
          "execution_count": 5
        }
      ]
    },
    {
      "cell_type": "code",
      "metadata": {
        "id": "RO38cv5R_24O",
        "colab_type": "code",
        "colab": {
          "base_uri": "https://localhost:8080/",
          "height": 67
        },
        "outputId": "742e8329-ec5d-4137-fded-a4015e1d3dc6"
      },
      "source": [
        "# Test documents\n",
        "doc_water = ['river', 'water', 'shore']\n",
        "doc_finance = ['finance', 'money', 'sell']\n",
        "doc_bank = ['finance', 'bank', 'tree', 'water']\n",
        "\n",
        "# Convert test docs into BoW format\n",
        "bow_water = model.id2word.doc2bow(doc_water)\n",
        "bow_finance = model.id2word.doc2bow(doc_finance)\n",
        "bow_bank = model.id2word.doc2bow(doc_bank)\n",
        "\n",
        "# Get LDA topic distributions for test documents\n",
        "lda_water = model[bow_water]\n",
        "lda_finance = model[bow_finance]\n",
        "lda_bank = model[bow_bank]\n",
        "\n",
        "# Print topic distributions\n",
        "print(lda_water)\n",
        "print(lda_finance)\n",
        "print(lda_bank)"
      ],
      "execution_count": null,
      "outputs": [
        {
          "output_type": "stream",
          "text": [
            "[(0, 0.30758294), (1, 0.6924171)]\n",
            "[(0, 0.6501373), (1, 0.3498627)]\n",
            "[(0, 0.64021087), (1, 0.35978913)]\n"
          ],
          "name": "stdout"
        }
      ]
    },
    {
      "cell_type": "markdown",
      "metadata": {
        "id": "H6SqD5TYA0AK",
        "colab_type": "text"
      },
      "source": [
        "**Hellinger Distance**\n",
        "\n",
        "> The Hellinger distance metric gives an output in the range [0,1] for two probability distributions, with values closer to 0 meaning they are more similar.\n",
        "\n"
      ]
    },
    {
      "cell_type": "code",
      "metadata": {
        "id": "qp2LqmHsA9iZ",
        "colab_type": "code",
        "colab": {
          "base_uri": "https://localhost:8080/",
          "height": 50
        },
        "outputId": "9c1b362d-ab35-46af-e9b9-96db9081f65e"
      },
      "source": [
        "print(hellinger(lda_water, lda_finance))\n",
        "print(hellinger(lda_finance, lda_bank))"
      ],
      "execution_count": null,
      "outputs": [
        {
          "output_type": "stream",
          "text": [
            "0.24622909657015662\n",
            "0.007335167626145516\n"
          ],
          "name": "stdout"
        }
      ]
    },
    {
      "cell_type": "markdown",
      "metadata": {
        "id": "FS94STLZEVmg",
        "colab_type": "text"
      },
      "source": [
        "**Kullback–Leibler Divergence**"
      ]
    },
    {
      "cell_type": "code",
      "metadata": {
        "id": "9C9kjNOfEURu",
        "colab_type": "code",
        "colab": {
          "base_uri": "https://localhost:8080/",
          "height": 67
        },
        "outputId": "1dc7b3d5-413a-4cac-8562-6ea532a7b154"
      },
      "source": [
        "print(kullback_leibler(lda_water, lda_finance))\n",
        "print(kullback_leibler(lda_finance, lda_bank))\n",
        "print(kullback_leibler(lda_bank, lda_finance))"
      ],
      "execution_count": null,
      "outputs": [
        {
          "output_type": "stream",
          "text": [
            "0.24246992\n",
            "0.0002147695\n",
            "0.00021567382\n"
          ],
          "name": "stdout"
        }
      ]
    },
    {
      "cell_type": "markdown",
      "metadata": {
        "id": "Qk0dQ3bDQS3B",
        "colab_type": "text"
      },
      "source": [
        "**Jaccard distance**\n",
        "\n",
        "> Jaccard distance is defined as 1 minus the size of the intersection divided the size of the union of the vectors. A distance of 0 indicates that the vectors are identical and a distance of 1 indicates that the vectors have no two components that are same.\n",
        "\n"
      ]
    },
    {
      "cell_type": "code",
      "metadata": {
        "id": "aLWgudIHQPNz",
        "colab_type": "code",
        "colab": {
          "base_uri": "https://localhost:8080/",
          "height": 50
        },
        "outputId": "8aaa407e-bf51-4420-d645-5a0d12fb2b90"
      },
      "source": [
        "print(jaccard(bow_water, bow_finance))\n",
        "print(jaccard(bow_finance,bow_bank))"
      ],
      "execution_count": null,
      "outputs": [
        {
          "output_type": "stream",
          "text": [
            "1.0\n",
            "0.8571428571428572\n"
          ],
          "name": "stdout"
        }
      ]
    },
    {
      "cell_type": "markdown",
      "metadata": {
        "id": "_k5G7TXdZCKG",
        "colab_type": "text"
      },
      "source": [
        "## **Distance Metrics for Topic Distributions**"
      ]
    },
    {
      "cell_type": "code",
      "metadata": {
        "id": "1b1AE5uCj7wv",
        "colab_type": "code",
        "colab": {}
      },
      "source": [
        "# Get topic distributions\n",
        "topic_water, topic_finance = model.show_topics()"
      ],
      "execution_count": null,
      "outputs": []
    },
    {
      "cell_type": "code",
      "metadata": {
        "id": "1dyL9ecKQ_FN",
        "colab_type": "code",
        "colab": {}
      },
      "source": [
        "# Preprocess to get topic BoW\n",
        "def parse_topic_string(topic):\n",
        "  # takes the string returned by model.show_topics()\n",
        "  # split on strings to get topics and the probabilities\n",
        "  topic = topic.split('+')\n",
        "  \n",
        "  # list to store topic BoWs\n",
        "  topic_bow = []\n",
        "\n",
        "  for word in topic:\n",
        "    # split probability and word\n",
        "    prob, word = word.split('*')\n",
        "\n",
        "    # remove space and quote marks\n",
        "    word = word.replace(\" \", \"\").replace('\"', '')\n",
        "\n",
        "    # extract word id\n",
        "    word = model.id2word.doc2bow([word])[0][0]\n",
        "\n",
        "    topic_bow.append((word, float(prob)))\n",
        "  \n",
        "  return topic_bow\n",
        "\n",
        "finance_dist = parse_topic_string(topic_finance[1])\n",
        "water_dist = parse_topic_string(topic_water[1])"
      ],
      "execution_count": null,
      "outputs": []
    },
    {
      "cell_type": "code",
      "metadata": {
        "id": "iwKw9KtWeHJR",
        "colab_type": "code",
        "colab": {
          "base_uri": "https://localhost:8080/",
          "height": 54
        },
        "outputId": "75d8d6cc-ef9a-4012-f4eb-13636b54314f"
      },
      "source": [
        "# BoW representation of the topic finance\n",
        "print(finance_dist)"
      ],
      "execution_count": null,
      "outputs": [
        {
          "output_type": "stream",
          "text": [
            "[(0, 0.142), (3, 0.116), (1, 0.09), (11, 0.084), (10, 0.081), (5, 0.064), (12, 0.055), (6, 0.055), (7, 0.053), (9, 0.05)]\n"
          ],
          "name": "stdout"
        }
      ]
    },
    {
      "cell_type": "code",
      "metadata": {
        "id": "iNgVzsfzjO3D",
        "colab_type": "code",
        "colab": {
          "base_uri": "https://localhost:8080/",
          "height": 54
        },
        "outputId": "b8e53aa0-f814-4090-9beb-710b2f68a0df"
      },
      "source": [
        "# BoW representation of the topic water\n",
        "print(water_dist)"
      ],
      "execution_count": null,
      "outputs": [
        {
          "output_type": "stream",
          "text": [
            "[(0, 0.207), (3, 0.1), (1, 0.089), (14, 0.088), (13, 0.067), (10, 0.064), (11, 0.062), (6, 0.053), (5, 0.045), (8, 0.044)]\n"
          ],
          "name": "stdout"
        }
      ]
    },
    {
      "cell_type": "code",
      "metadata": {
        "id": "DVN4dEYmjxNa",
        "colab_type": "code",
        "colab": {
          "base_uri": "https://localhost:8080/",
          "height": 34
        },
        "outputId": "137dd31e-bb8a-4219-f6e6-b9055ebc7c76"
      },
      "source": [
        "print(hellinger(water_dist, finance_dist))"
      ],
      "execution_count": null,
      "outputs": [
        {
          "output_type": "stream",
          "text": [
            "0.42898539619904935\n"
          ],
          "name": "stdout"
        }
      ]
    },
    {
      "cell_type": "code",
      "metadata": {
        "id": "3VcTVtG8kyNd",
        "colab_type": "code",
        "colab": {
          "base_uri": "https://localhost:8080/",
          "height": 104
        },
        "outputId": "a1c592f2-961b-4750-d297-a2e4dcfe7bdf"
      },
      "source": [
        "model.show_topics(num_words=len(model.id2word))"
      ],
      "execution_count": null,
      "outputs": [
        {
          "output_type": "execute_result",
          "data": {
            "text/plain": [
              "[(0,\n",
              "  '0.207*\"bank\" + 0.100*\"water\" + 0.089*\"river\" + 0.088*\"sell\" + 0.067*\"borrow\" + 0.064*\"finance\" + 0.062*\"money\" + 0.053*\"tree\" + 0.045*\"flow\" + 0.044*\"rain\" + 0.042*\"fast\" + 0.038*\"loan\" + 0.033*\"shore\" + 0.025*\"mud\" + 0.022*\"fall\" + 0.021*\"transaction\"'),\n",
              " (1,\n",
              "  '0.142*\"bank\" + 0.116*\"water\" + 0.090*\"river\" + 0.084*\"money\" + 0.081*\"finance\" + 0.064*\"flow\" + 0.055*\"transaction\" + 0.055*\"tree\" + 0.053*\"fall\" + 0.050*\"mud\" + 0.050*\"sell\" + 0.039*\"shore\" + 0.036*\"borrow\" + 0.033*\"loan\" + 0.028*\"fast\" + 0.025*\"rain\"')]"
            ]
          },
          "metadata": {
            "tags": []
          },
          "execution_count": 16
        }
      ]
    },
    {
      "cell_type": "markdown",
      "metadata": {
        "id": "vG2LiztJmTA_",
        "colab_type": "text"
      },
      "source": [
        "## **Visualizing Distance Metrics**\n",
        "\n",
        "> Each node will be a document, where the color of the node will be its topic according to the LDA model. Edges will connect documents to each other, where the weight of the edge will be inversely proportional to the Jaccard similarity between two documents. We will also annotate the edges to further aid visualization: strong edges will connect similar documents, and weak (dashed) edges will connect dissimilar documents. In summary, similar documents will be closer together, different documents will be further apart."
      ]
    },
    {
      "cell_type": "code",
      "metadata": {
        "id": "QhmnhC1Ek2hP",
        "colab_type": "code",
        "colab": {
          "base_uri": "https://localhost:8080/",
          "height": 433
        },
        "outputId": "efdf0812-4d7d-407c-9e61-b21381a1e32d"
      },
      "source": [
        "# Get topic corresponding to maximum probability\n",
        "def get_most_likely_topic(doc):\n",
        "  bow = model.id2word.doc2bow(doc)\n",
        "  topics, prob = zip(*model.get_document_topics(bow))\n",
        "  max_p = max(prob)\n",
        "  topic = topics[prob.index(max_p)]\n",
        "  return topic\n",
        "\n",
        "def get_node_color(i):\n",
        "    return 'skyblue' if get_most_likely_topic(texts[i]) == 0 else 'pink'\n",
        "\n",
        "G = nx.Graph()\n",
        "for i, _ in enumerate(texts):\n",
        "    G.add_node(i)\n",
        "\n",
        "for (i1, i2) in itertools.combinations(range(len(texts)), 2):\n",
        "    bow1, bow2 = texts[i1], texts[i2]\n",
        "    distance = jaccard(bow1, bow2)\n",
        "    G.add_edge(i1, i2, weight=1/distance)\n",
        "\n",
        "#\n",
        "# https://networkx.github.io/documentation/networkx-1.9/examples/drawing/weighted_graph.html\n",
        "#\n",
        "pos = nx.spring_layout(G)\n",
        "\n",
        "threshold = 1.25\n",
        "elarge=[(u,v) for (u,v,d) in G.edges(data=True) if d['weight'] > threshold]\n",
        "esmall=[(u,v) for (u,v,d) in G.edges(data=True) if d['weight'] <= threshold]\n",
        "\n",
        "node_colors = [get_node_color(i) for (i, _) in enumerate(texts)]\n",
        "nx.draw_networkx_nodes(G, pos, node_size=700, node_color=node_colors)\n",
        "nx.draw_networkx_edges(G,pos,edgelist=elarge, width=2)\n",
        "nx.draw_networkx_edges(G,pos,edgelist=esmall, width=2, alpha=0.2, edge_color='b', style='dashed')\n",
        "nx.draw_networkx_labels(G, pos, font_size=20, font_family='sans-serif')"
      ],
      "execution_count": null,
      "outputs": [
        {
          "output_type": "execute_result",
          "data": {
            "text/plain": [
              "{0: Text(0.5623713119654535, -0.5654949275102867, '0'),\n",
              " 1: Text(-0.4663601964529483, -0.6704630663732092, '1'),\n",
              " 2: Text(-0.30624897543315965, 0.9162694996045158, '2'),\n",
              " 3: Text(0.4247862302728536, 0.7444862691011674, '3'),\n",
              " 4: Text(0.9351312878962134, -0.20600448573794963, '4'),\n",
              " 5: Text(0.7876621584477874, 0.3688167238515861, '5'),\n",
              " 6: Text(0.048188122211134096, -0.9116393631071852, '6'),\n",
              " 7: Text(-0.14300919055140138, 0.405662886157678, '7'),\n",
              " 8: Text(0.00650692154979198, -0.1353255005580942, '8'),\n",
              " 9: Text(-0.9999999999999999, -0.3170708342089091, '9'),\n",
              " 10: Text(-0.8490276699057261, 0.3707627987806906, '10')}"
            ]
          },
          "metadata": {
            "tags": []
          },
          "execution_count": 24
        },
        {
          "output_type": "display_data",
          "data": {
            "image/png": "[encoded data removed]",
            "text/plain": [
              "<Figure size 432x288 with 1 Axes>"
            ]
          },
          "metadata": {
            "tags": []
          }
        }
      ]
    },
    {
      "cell_type": "code",
      "metadata": {
        "id": "WlIHsJ-Qohvi",
        "colab_type": "code",
        "colab": {
          "base_uri": "https://localhost:8080/",
          "height": 218
        },
        "outputId": "68e7621b-9155-42da-83fb-4e771215dd94"
      },
      "source": [
        "print('id\\ttopic\\tdoc')\n",
        "for i, t in enumerate(texts):\n",
        "    print('%d\\t%d\\t%s' % (i, get_most_likely_topic(t), ' '.join(t)))"
      ],
      "execution_count": null,
      "outputs": [
        {
          "output_type": "stream",
          "text": [
            "id\ttopic\tdoc\n",
            "0\t0\tbank river shore water\n",
            "1\t0\triver water flow fast tree\n",
            "2\t1\tbank water fall flow\n",
            "3\t0\tbank bank water rain river\n",
            "4\t1\triver water mud tree\n",
            "5\t1\tmoney transaction bank finance\n",
            "6\t0\tbank borrow money\n",
            "7\t0\tbank finance\n",
            "8\t0\tfinance money sell bank\n",
            "9\t0\tborrow sell\n",
            "10\t0\tbank loan sell\n"
          ],
          "name": "stdout"
        }
      ]
    }
  ]
}