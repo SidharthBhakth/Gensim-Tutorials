{
  "nbformat": 4,
  "nbformat_minor": 0,
  "metadata": {
    "colab": {
      "name": "1. Doc2Vec Model.ipynb",
      "provenance": [],
      "collapsed_sections": [],
      "authorship_tag": "ABX9TyOr+Olr9tCcSYMXYpy30WBp"
    },
    "kernelspec": {
      "name": "python3",
      "display_name": "Python 3"
    }
  },
  "cells": [
    {
      "cell_type": "markdown",
      "metadata": {
        "id": "eC30ilgC2fPF",
        "colab_type": "text"
      },
      "source": [
        "# 1. Doc2Vec Model"
      ]
    },
    {
      "cell_type": "code",
      "metadata": {
        "id": "RpkTqcm53G-P",
        "colab_type": "code",
        "colab": {}
      },
      "source": [
        "import os\n",
        "from smart_open import open\n",
        "import random\n",
        "import collections\n",
        "import gensim\n",
        "from gensim.models import doc2vec"
      ],
      "execution_count": 1,
      "outputs": []
    },
    {
      "cell_type": "markdown",
      "metadata": {
        "id": "tOR2cIws6FDQ",
        "colab_type": "text"
      },
      "source": [
        "## **Prepare the Training and Test Data**"
      ]
    },
    {
      "cell_type": "code",
      "metadata": {
        "id": "aUFbD5y35GzR",
        "colab_type": "code",
        "colab": {}
      },
      "source": [
        "# Set file names for train and test data\n",
        "test_data_dir = os.path.join(gensim.__path__[0], 'test', 'test_data')\n",
        "lee_train_file = os.path.join(test_data_dir, 'lee_background.cor')\n",
        "lee_test_file = os.path.join(test_data_dir, 'lee.cor')"
      ],
      "execution_count": 2,
      "outputs": []
    },
    {
      "cell_type": "code",
      "metadata": {
        "id": "SBTd1Eey57aQ",
        "colab_type": "code",
        "colab": {}
      },
      "source": [
        "# Define a function to read and preprocess Text\n",
        "def read_corpus(fname, tokens_only=False):\n",
        "  with open(fname, encoding=\"iso=8859-1\") as f:\n",
        "    for i, line in enumerate(f):\n",
        "      tokens = gensim.utils.simple_preprocess(line)\n",
        "\n",
        "      if tokens_only:\n",
        "        yield tokens\n",
        "      \n",
        "      else:\n",
        "        # add tags for for training data\n",
        "        yield gensim.models.doc2vec.TaggedDocument(tokens, [i])"
      ],
      "execution_count": 3,
      "outputs": []
    },
    {
      "cell_type": "code",
      "metadata": {
        "id": "U4ahcHms6__4",
        "colab_type": "code",
        "colab": {}
      },
      "source": [
        "train_corpus = list(read_corpus(lee_train_file))\n",
        "test_corpus = list(read_corpus(lee_test_file, tokens_only=True))"
      ],
      "execution_count": 4,
      "outputs": []
    },
    {
      "cell_type": "code",
      "metadata": {
        "id": "TGlrv0Gp7MxB",
        "colab_type": "code",
        "colab": {
          "base_uri": "https://localhost:8080/",
          "height": 54
        },
        "outputId": "a7386aff-14a3-4493-c69f-8217575e7f3b"
      },
      "source": [
        "# print train corpus - list of tagged documents\n",
        "print(train_corpus[:2])"
      ],
      "execution_count": 5,
      "outputs": [
        {
          "output_type": "stream",
          "text": [
            "[TaggedDocument(words=['hundreds', 'of', 'people', 'have', 'been', 'forced', 'to', 'vacate', 'their', 'homes', 'in', 'the', 'southern', 'highlands', 'of', 'new', 'south', 'wales', 'as', 'strong', 'winds', 'today', 'pushed', 'huge', 'bushfire', 'towards', 'the', 'town', 'of', 'hill', 'top', 'new', 'blaze', 'near', 'goulburn', 'south', 'west', 'of', 'sydney', 'has', 'forced', 'the', 'closure', 'of', 'the', 'hume', 'highway', 'at', 'about', 'pm', 'aedt', 'marked', 'deterioration', 'in', 'the', 'weather', 'as', 'storm', 'cell', 'moved', 'east', 'across', 'the', 'blue', 'mountains', 'forced', 'authorities', 'to', 'make', 'decision', 'to', 'evacuate', 'people', 'from', 'homes', 'in', 'outlying', 'streets', 'at', 'hill', 'top', 'in', 'the', 'new', 'south', 'wales', 'southern', 'highlands', 'an', 'estimated', 'residents', 'have', 'left', 'their', 'homes', 'for', 'nearby', 'mittagong', 'the', 'new', 'south', 'wales', 'rural', 'fire', 'service', 'says', 'the', 'weather', 'conditions', 'which', 'caused', 'the', 'fire', 'to', 'burn', 'in', 'finger', 'formation', 'have', 'now', 'eased', 'and', 'about', 'fire', 'units', 'in', 'and', 'around', 'hill', 'top', 'are', 'optimistic', 'of', 'defending', 'all', 'properties', 'as', 'more', 'than', 'blazes', 'burn', 'on', 'new', 'year', 'eve', 'in', 'new', 'south', 'wales', 'fire', 'crews', 'have', 'been', 'called', 'to', 'new', 'fire', 'at', 'gunning', 'south', 'of', 'goulburn', 'while', 'few', 'details', 'are', 'available', 'at', 'this', 'stage', 'fire', 'authorities', 'says', 'it', 'has', 'closed', 'the', 'hume', 'highway', 'in', 'both', 'directions', 'meanwhile', 'new', 'fire', 'in', 'sydney', 'west', 'is', 'no', 'longer', 'threatening', 'properties', 'in', 'the', 'cranebrook', 'area', 'rain', 'has', 'fallen', 'in', 'some', 'parts', 'of', 'the', 'illawarra', 'sydney', 'the', 'hunter', 'valley', 'and', 'the', 'north', 'coast', 'but', 'the', 'bureau', 'of', 'meteorology', 'claire', 'richards', 'says', 'the', 'rain', 'has', 'done', 'little', 'to', 'ease', 'any', 'of', 'the', 'hundred', 'fires', 'still', 'burning', 'across', 'the', 'state', 'the', 'falls', 'have', 'been', 'quite', 'isolated', 'in', 'those', 'areas', 'and', 'generally', 'the', 'falls', 'have', 'been', 'less', 'than', 'about', 'five', 'millimetres', 'she', 'said', 'in', 'some', 'places', 'really', 'not', 'significant', 'at', 'all', 'less', 'than', 'millimetre', 'so', 'there', 'hasn', 'been', 'much', 'relief', 'as', 'far', 'as', 'rain', 'is', 'concerned', 'in', 'fact', 'they', 've', 'probably', 'hampered', 'the', 'efforts', 'of', 'the', 'firefighters', 'more', 'because', 'of', 'the', 'wind', 'gusts', 'that', 'are', 'associated', 'with', 'those', 'thunderstorms'], tags=[0]), TaggedDocument(words=['indian', 'security', 'forces', 'have', 'shot', 'dead', 'eight', 'suspected', 'militants', 'in', 'night', 'long', 'encounter', 'in', 'southern', 'kashmir', 'the', 'shootout', 'took', 'place', 'at', 'dora', 'village', 'some', 'kilometers', 'south', 'of', 'the', 'kashmiri', 'summer', 'capital', 'srinagar', 'the', 'deaths', 'came', 'as', 'pakistani', 'police', 'arrested', 'more', 'than', 'two', 'dozen', 'militants', 'from', 'extremist', 'groups', 'accused', 'of', 'staging', 'an', 'attack', 'on', 'india', 'parliament', 'india', 'has', 'accused', 'pakistan', 'based', 'lashkar', 'taiba', 'and', 'jaish', 'mohammad', 'of', 'carrying', 'out', 'the', 'attack', 'on', 'december', 'at', 'the', 'behest', 'of', 'pakistani', 'military', 'intelligence', 'military', 'tensions', 'have', 'soared', 'since', 'the', 'raid', 'with', 'both', 'sides', 'massing', 'troops', 'along', 'their', 'border', 'and', 'trading', 'tit', 'for', 'tat', 'diplomatic', 'sanctions', 'yesterday', 'pakistan', 'announced', 'it', 'had', 'arrested', 'lashkar', 'taiba', 'chief', 'hafiz', 'mohammed', 'saeed', 'police', 'in', 'karachi', 'say', 'it', 'is', 'likely', 'more', 'raids', 'will', 'be', 'launched', 'against', 'the', 'two', 'groups', 'as', 'well', 'as', 'other', 'militant', 'organisations', 'accused', 'of', 'targetting', 'india', 'military', 'tensions', 'between', 'india', 'and', 'pakistan', 'have', 'escalated', 'to', 'level', 'not', 'seen', 'since', 'their', 'war'], tags=[1])]\n"
          ],
          "name": "stdout"
        }
      ]
    },
    {
      "cell_type": "code",
      "metadata": {
        "id": "sqS_5Cbk7Rqr",
        "colab_type": "code",
        "colab": {
          "base_uri": "https://localhost:8080/",
          "height": 54
        },
        "outputId": "6ef5b47a-4b36-4a4f-fcf9-0764a127e443"
      },
      "source": [
        "# print testing corpus - list of lists (no tags)\n",
        "print(test_corpus[:2])"
      ],
      "execution_count": 6,
      "outputs": [
        {
          "output_type": "stream",
          "text": [
            "[['the', 'national', 'executive', 'of', 'the', 'strife', 'torn', 'democrats', 'last', 'night', 'appointed', 'little', 'known', 'west', 'australian', 'senator', 'brian', 'greig', 'as', 'interim', 'leader', 'shock', 'move', 'likely', 'to', 'provoke', 'further', 'conflict', 'between', 'the', 'party', 'senators', 'and', 'its', 'organisation', 'in', 'move', 'to', 'reassert', 'control', 'over', 'the', 'party', 'seven', 'senators', 'the', 'national', 'executive', 'last', 'night', 'rejected', 'aden', 'ridgeway', 'bid', 'to', 'become', 'interim', 'leader', 'in', 'favour', 'of', 'senator', 'greig', 'supporter', 'of', 'deposed', 'leader', 'natasha', 'stott', 'despoja', 'and', 'an', 'outspoken', 'gay', 'rights', 'activist'], ['cash', 'strapped', 'financial', 'services', 'group', 'amp', 'has', 'shelved', 'million', 'plan', 'to', 'buy', 'shares', 'back', 'from', 'investors', 'and', 'will', 'raise', 'million', 'in', 'fresh', 'capital', 'after', 'profits', 'crashed', 'in', 'the', 'six', 'months', 'to', 'june', 'chief', 'executive', 'paul', 'batchelor', 'said', 'the', 'result', 'was', 'solid', 'in', 'what', 'he', 'described', 'as', 'the', 'worst', 'conditions', 'for', 'stock', 'markets', 'in', 'years', 'amp', 'half', 'year', 'profit', 'sank', 'per', 'cent', 'to', 'million', 'or', 'share', 'as', 'australia', 'largest', 'investor', 'and', 'fund', 'manager', 'failed', 'to', 'hit', 'projected', 'per', 'cent', 'earnings', 'growth', 'targets', 'and', 'was', 'battered', 'by', 'falling', 'returns', 'on', 'share', 'markets']]\n"
          ],
          "name": "stdout"
        }
      ]
    },
    {
      "cell_type": "markdown",
      "metadata": {
        "id": "xdJ-VW8D8vJP",
        "colab_type": "text"
      },
      "source": [
        "## **Training the model**"
      ]
    },
    {
      "cell_type": "code",
      "metadata": {
        "id": "gObDseep8zzG",
        "colab_type": "code",
        "colab": {}
      },
      "source": [
        "# Instantiate a Doc2Vec model\n",
        "model = doc2vec.Doc2Vec(vector_size=50,     # embedding dimensionality\n",
        "                        min_count=2,        # discard words which appear less than 2 times\n",
        "                        epochs = 50)        # no of passes through the training corpus\n",
        "\n",
        "# Build a vocabulary\n",
        "model.build_vocab(train_corpus)\n",
        "\n",
        "# Train model on the corpus\n",
        "model.train(train_corpus, total_examples=model.corpus_count, epochs=model.epochs)"
      ],
      "execution_count": 7,
      "outputs": []
    },
    {
      "cell_type": "code",
      "metadata": {
        "id": "YMT2KwTd_OzP",
        "colab_type": "code",
        "colab": {
          "base_uri": "https://localhost:8080/",
          "height": 34
        },
        "outputId": "b8817b82-bc26-482e-8a05-66c3e99bcd7d"
      },
      "source": [
        "# Print the number of times the word 'hundreds' appears in the corpus\n",
        "model.wv.vocab['hundreds'].count"
      ],
      "execution_count": 8,
      "outputs": [
        {
          "output_type": "execute_result",
          "data": {
            "text/plain": [
              "18"
            ]
          },
          "metadata": {
            "tags": []
          },
          "execution_count": 8
        }
      ]
    },
    {
      "cell_type": "code",
      "metadata": {
        "id": "_U79qqPz_0xj",
        "colab_type": "code",
        "colab": {
          "base_uri": "https://localhost:8080/",
          "height": 202
        },
        "outputId": "6c46dd8c-ca0d-4c60-8716-bb581a040272"
      },
      "source": [
        "# Use the trained model to 'infer' the vector embedding for any list of tokens\n",
        "model.infer_vector(['the', 'quick', 'brown', 'fox', 'jumps', 'over', 'the', 'lazy', 'dog'])"
      ],
      "execution_count": 9,
      "outputs": [
        {
          "output_type": "execute_result",
          "data": {
            "text/plain": [
              "array([-0.23265894,  0.3393085 , -0.2385683 ,  0.04905006,  0.12513739,\n",
              "        0.41508305,  0.0079556 ,  0.03333636,  0.04071604, -0.17089702,\n",
              "       -0.02401664,  0.23534991, -0.05696955,  0.40091512,  0.3124733 ,\n",
              "       -0.18520485,  0.37017894,  0.01130299, -0.07685146,  0.23932266,\n",
              "        0.06701266,  0.29256415, -0.19343553, -0.23276073, -0.06889956,\n",
              "       -0.37002292,  0.00125259,  0.3126959 ,  0.22234789, -0.1490294 ,\n",
              "       -0.03062874,  0.48139194, -0.08569314, -0.007669  , -0.07289602,\n",
              "        0.12197638, -0.10752778,  0.26965573,  0.1639427 , -0.05119265,\n",
              "        0.03738489, -0.00359745,  0.14559452,  0.12811476,  0.18786794,\n",
              "       -0.0756438 ,  0.2800887 , -0.03182833,  0.34028265,  0.3972578 ],\n",
              "      dtype=float32)"
            ]
          },
          "metadata": {
            "tags": []
          },
          "execution_count": 9
        }
      ]
    },
    {
      "cell_type": "markdown",
      "metadata": {
        "id": "cYnlb1xgAheJ",
        "colab_type": "text"
      },
      "source": [
        "## **Assessing the Model**"
      ]
    },
    {
      "cell_type": "code",
      "metadata": {
        "id": "Y2dpUXmeAk53",
        "colab_type": "code",
        "colab": {
          "base_uri": "https://localhost:8080/",
          "height": 70
        },
        "outputId": "9fb6c2c4-64b1-41fa-ad95-06523560758d"
      },
      "source": [
        "ranks = []\n",
        "second_ranks = []\n",
        "\n",
        "for doc_id in range(len(train_corpus)):\n",
        "  # infer the vector for each doc in training corpus\n",
        "  inferred_vector = model.infer_vector(train_corpus[doc_id].words)\n",
        "\n",
        "  # calculate similarity\n",
        "  sims = model.docvecs.most_similar([inferred_vector], topn=len(model.docvecs))\n",
        "\n",
        "  # get top ranked vec\n",
        "  rank = [ docid for docid, sim in sims].index(doc_id)\n",
        "  \n",
        "  ranks.append(rank)\n",
        "  second_ranks.append(sims[1])"
      ],
      "execution_count": 10,
      "outputs": [
        {
          "output_type": "stream",
          "text": [
            "/usr/local/lib/python3.6/dist-packages/gensim/matutils.py:737: FutureWarning: Conversion of the second argument of issubdtype from `int` to `np.signedinteger` is deprecated. In future, it will be treated as `np.int64 == np.dtype(int).type`.\n",
            "  if np.issubdtype(vec.dtype, np.int):\n"
          ],
          "name": "stderr"
        }
      ]
    },
    {
      "cell_type": "code",
      "metadata": {
        "id": "bVzPn6STCO_t",
        "colab_type": "code",
        "colab": {
          "base_uri": "https://localhost:8080/",
          "height": 34
        },
        "outputId": "37bfefd8-d8e1-4e9d-90f5-9e914d6f79ea"
      },
      "source": [
        "counter = collections.Counter(ranks)\n",
        "print(counter)"
      ],
      "execution_count": 11,
      "outputs": [
        {
          "output_type": "stream",
          "text": [
            "Counter({0: 291, 1: 9})\n"
          ],
          "name": "stdout"
        }
      ]
    },
    {
      "cell_type": "markdown",
      "metadata": {
        "id": "GoGj3c5yD8oD",
        "colab_type": "text"
      },
      "source": [
        "Basically, greater than 95% of the inferred documents are found to be most similar to itself and about 5% of the time it is mistakenly most similar to another document. Checking the inferred-vector against a training-vector is a sort of ‘sanity check’ as to whether the model is behaving in a usefully consistent manner, though not a real ‘accuracy’ value."
      ]
    },
    {
      "cell_type": "code",
      "metadata": {
        "id": "E9RMAFKsD671",
        "colab_type": "code",
        "colab": {
          "base_uri": "https://localhost:8080/",
          "height": 238
        },
        "outputId": "c62aea2f-25cd-47fe-e90b-b8b1d0ba7c14"
      },
      "source": [
        "print('Document ({}): \"{}\"\\n'.format(doc_id, ' '.join(train_corpus[doc_id].words)))\n",
        "print('SIMILAR/DISSIMILAR DOCS AS PER MODEL {}:\\n'.format(model))\n",
        "\n",
        "for label, index in [('MOST', 0), ('SECOND-MOST', 1), ('MEDIAN', len(sims)//2), ('LEAST', len(sims)-1)]:\n",
        "  print('{0} {1}: \"{2}\"\\n'.format(label, sims[index], ' '.join(train_corpus[sims[index][0]].words)))"
      ],
      "execution_count": 12,
      "outputs": [
        {
          "output_type": "stream",
          "text": [
            "Document (299): \"australia will take on france in the doubles rubber of the davis cup tennis final today with the tie levelled at wayne arthurs and todd woodbridge are scheduled to lead australia in the doubles against cedric pioline and fabrice santoro however changes can be made to the line up up to an hour before the match and australian team captain john fitzgerald suggested he might do just that we ll make team appraisal of the whole situation go over the pros and cons and make decision french team captain guy forget says he will not make changes but does not know what to expect from australia todd is the best doubles player in the world right now so expect him to play he said would probably use wayne arthurs but don know what to expect really pat rafter salvaged australia davis cup campaign yesterday with win in the second singles match rafter overcame an arm injury to defeat french number one sebastien grosjean in three sets the australian says he is happy with his form it not very pretty tennis there isn too many consistent bounces you are playing like said bit of classic old grass court rafter said rafter levelled the score after lleyton hewitt shock five set loss to nicholas escude in the first singles rubber but rafter says he felt no added pressure after hewitt defeat knew had good team to back me up even if we were down he said knew could win on the last day know the boys can win doubles so even if we were down still feel we are good enough team to win and vice versa they are good enough team to beat us as well\"\n",
            "\n",
            "SIMILAR/DISSIMILAR DOCS AS PER MODEL Doc2Vec(dm/m,d50,n5,w5,mc2,s0.001,t3):\n",
            "\n",
            "MOST (299, 0.947664201259613): \"australia will take on france in the doubles rubber of the davis cup tennis final today with the tie levelled at wayne arthurs and todd woodbridge are scheduled to lead australia in the doubles against cedric pioline and fabrice santoro however changes can be made to the line up up to an hour before the match and australian team captain john fitzgerald suggested he might do just that we ll make team appraisal of the whole situation go over the pros and cons and make decision french team captain guy forget says he will not make changes but does not know what to expect from australia todd is the best doubles player in the world right now so expect him to play he said would probably use wayne arthurs but don know what to expect really pat rafter salvaged australia davis cup campaign yesterday with win in the second singles match rafter overcame an arm injury to defeat french number one sebastien grosjean in three sets the australian says he is happy with his form it not very pretty tennis there isn too many consistent bounces you are playing like said bit of classic old grass court rafter said rafter levelled the score after lleyton hewitt shock five set loss to nicholas escude in the first singles rubber but rafter says he felt no added pressure after hewitt defeat knew had good team to back me up even if we were down he said knew could win on the last day know the boys can win doubles so even if we were down still feel we are good enough team to win and vice versa they are good enough team to beat us as well\"\n",
            "\n",
            "SECOND-MOST (104, 0.7613789439201355): \"australian cricket captain steve waugh has supported fast bowler brett lee after criticism of his intimidatory bowling to the south african tailenders in the first test in adelaide earlier this month lee was fined for giving new zealand tailender shane bond an unsportsmanlike send off during the third test in perth waugh says tailenders should not be protected from short pitched bowling these days you re earning big money you ve got responsibility to learn how to bat he said mean there no times like years ago when it was not professional and sort of bowlers code these days you re professional our batsmen work very hard at their batting and expect other tailenders to do likewise meanwhile waugh says his side will need to guard against complacency after convincingly winning the first test by runs waugh says despite the dominance of his side in the first test south africa can never be taken lightly it only one test match out of three or six whichever way you want to look at it so there lot of work to go he said but it nice to win the first battle definitely it gives us lot of confidence going into melbourne you know the big crowd there we love playing in front of the boxing day crowd so that will be to our advantage as well south africa begins four day match against new south wales in sydney on thursday in the lead up to the boxing day test veteran fast bowler allan donald will play in the warm up match and is likely to take his place in the team for the second test south african captain shaun pollock expects much better performance from his side in the melbourne test we still believe that we didn play to our full potential so if we can improve on our aspects the output we put out on the field will be lot better and we still believe we have side that is good enough to beat australia on our day he said\"\n",
            "\n",
            "MEDIAN (114, 0.2060394585132599): \"the federal cabinet has today endorsed series of anti terrorism measures at meeting in sydney new legislation will give more power to commonwealth agencies including allowing asio to detain people with information about terrorism for up to hours without legal representation terrorism offences will also be inserted in the criminal code and security agencies will be given the power to access unread emails attorney general daryl williams says the measures should win widespread community support the balancing process that we ve undergone in working out the asio paths believe is fair one and believe that the public will strongly support it as said hope the labor party will get behind it as well he said mr williams has appealed for the opposition to support the new anti terrorism measures we re looking for the labor party to get behind us on all of these proposals and we need the cooperation of the states and territories in relation to some of them mr williams said mr williams also says the first group of air security officers will have finished their training this weekend but he won reveal when they will take to the air us and afghan forces scoured afghanistan eastern highlands for osama bin laden as united states president george bush expressed certainty the terror suspect would be caught even though his whereabouts remain mystery for the first time in two weeks the tora bora battleground fell silent as tribal forces claimed they had defeated bin laden al qaeda fighters defending complex of caves and tunnels that served as their headquarters us warplanes suspended their bombing raids at the request of local commander whose us backed forces were scouring the mountainous area for fleeing al qaeda members according to the pentagon which said there were still pockets of resistance in the area us commandos also were on the ground searching for bin laden though the us administration said it had no clue whether he was still in the area few days ago we believed he was in the area rear admiral john stufflebeem said in washington asked where bin laden was now the pentagon spokesman said anybody guess is the latest thinking but president bush expressed certainty it was just matter time before the united states catches up with the man accused of masterminding the september attacks on us cities we get all kinds of reports that he in cave that he not in cave that he escaped that he hasn escaped he said there all kinds of speculation but when the dust clears we ll find out where he is and he will be brought to justice\"\n",
            "\n",
            "LEAST (76, -0.13868562877178192): \"the death toll in argentina food riots has risen to local media reports say four more people died this morning in clashes between police and protesters near the presidential palace in the capital buenos aires president fernando de la rua has called on the opposition to take part in government of national unity and apparently will resign if it does not looting and rioting has generally given way to more peaceful demonstrations against the faltering government blamed for month recession heavily armed police using powers under day state of siege decree are attempting to prevent large public gatherings but union leaders say workers and the unemployed will not stop until the government is removed and living standards restored with argentina discredited economy minister now gone the government hopes to approve new budget acceptable to the international monetary fund imf to avoid default on the billion foreign debt the presidents of neighbouring brazil and chile say they fear the social unrest could infect their own nations unless argentina and its leaders can resolve the crisis quickly\"\n",
            "\n"
          ],
          "name": "stdout"
        }
      ]
    },
    {
      "cell_type": "markdown",
      "metadata": {
        "id": "uLJrTGsMKkIE",
        "colab_type": "text"
      },
      "source": [
        "Notice above that the most similar document (usually the same text) is has a similarity score approaching 1.0. However, the similarity score for the second-ranked documents should be significantly lower (assuming the documents are in fact different) and the reasoning becomes obvious when we examine the text itself."
      ]
    },
    {
      "cell_type": "code",
      "metadata": {
        "id": "beEywQP2GzJw",
        "colab_type": "code",
        "colab": {
          "base_uri": "https://localhost:8080/",
          "height": 104
        },
        "outputId": "ccb24452-8927-41dc-85c2-0d48c6ea817a"
      },
      "source": [
        "# Pick a random document from the train corpus as infer a vector from the model\n",
        "doc_id = random.randint(0, len(train_corpus)-1)\n",
        "print('Train document ({}): \"{}\"\\n'.format(doc_id, ' '.join(train_corpus[doc_id].words)))\n",
        "\n",
        "# Compare and print the second-most-similar document\n",
        "sim_id = second_ranks[doc_id]\n",
        "print('Similar document ({}): \"{}\"\\n'.format(sim_id, ' '.join(train_corpus[sim_id[0]].words)))"
      ],
      "execution_count": 13,
      "outputs": [
        {
          "output_type": "stream",
          "text": [
            "Train document (253): \"computer virus experts have warned of new goner computer virus that can erase data from user hard drive according to mcafee com leading anti computer virus software company the virus is attacking both home and business computers the company has given the virus high risk rating its most serious warning the virus also known as worm gets into computers via microsoft outlook email program if user activates the virus by opening up an infected email attachment it can create havoc the virus the company warned can delete files from users computers the goner worm then emails itself to every email address contained in the user address book this new virus comes right after the badtrans internet worm another outlook attacker that replicates itself by sending copies out to everyone on user address list badtrans however did not erase data mcafee is recommending that users upgrade their anti virus software the company also warns against opening up unexpected attachments\"\n",
            "\n",
            "Similar document ((202, 0.4837689697742462)): \"an international study has found thousands of australians are involved in the child sex industry but it remains largely invisible problem the report author and national director of child wise bernadette mcmenamin says the year study revealed growing number of australians are involved in paedophilia child pornography and child sex tours it also found growing number of children are working as prostitutes in order to survive ms mcmenamin says the advent of the internet has made it easier for offenders to promote sex tours share images and information and establish international networks the child sex trade report has made recommendations to the federal government on how to improve investigations of child sex offences and provide improved services to affected children ms mcmenamin says australian authorities are ignoring the growing number of children working as prostitutes preferring to call them homeless or children without support ms mcmenamin says more needs to be done to address the role of commercial sex in survival on the streets we re currently not meeting their needs they re falling through the gaps they are not entering services because the services aren gearing towards the needs that these young people have when they re on the streets and they re really really vulnerable she said\"\n",
            "\n"
          ],
          "name": "stdout"
        }
      ]
    },
    {
      "cell_type": "markdown",
      "metadata": {
        "id": "o1Bm8J47MjUT",
        "colab_type": "text"
      },
      "source": [
        "## **Testing the Model**"
      ]
    },
    {
      "cell_type": "code",
      "metadata": {
        "id": "ROuiMnz9Mnzf",
        "colab_type": "code",
        "colab": {
          "base_uri": "https://localhost:8080/",
          "height": 238
        },
        "outputId": "b3e452bf-3741-4090-ac97-d26f274a09c2"
      },
      "source": [
        "# Pick a random document from the test corpus as infer a vector from the model\n",
        "doc_id = random.randint(0, len(test_corpus)-1)\n",
        "inferred_vector = model.infer_vector(test_corpus[doc_id])\n",
        "sims = model.docvecs.most_similar([inferred_vector], topn=len(model.docvecs))\n",
        "\n",
        "# Compare and print the most/median/least similar documents from the train corpus\n",
        "print('Test document ({}): \"{}\"\\n'.format(doc_id, ' '.join(test_corpus[doc_id])))\n",
        "print('SIMILAR/DISSIMILAR DOCS AS PER MODEL {}:\\n'.format(model))\n",
        "for label, index in [('MOST', 0), ('MEDIAN', len(sims)//2), ('LEAST', len(sims)-1)]:\n",
        "  print('{0} {1}: \"{2}\"\\n'.format(label, sims[index], ' '.join(train_corpus[sims[index][0]].words)))"
      ],
      "execution_count": 14,
      "outputs": [
        {
          "output_type": "stream",
          "text": [
            "Test document (4): \"washington has sharply rebuked russia over bombings of georgian villages warning the raids violated georgian sovereignty and could worsen tensions between moscow and tbilisi the united states regrets the loss of life and deplores the violation of georgia sovereignty white house spokesman ari fleischer said mr fleischer said us secretary of state colin powell had delivered the same message to his russian counterpart but that the stern language did not reflect sign of souring relations between moscow and washington\"\n",
            "\n",
            "SIMILAR/DISSIMILAR DOCS AS PER MODEL Doc2Vec(dm/m,d50,n5,w5,mc2,s0.001,t3):\n",
            "\n",
            "MOST (1, 0.6656010150909424): \"indian security forces have shot dead eight suspected militants in night long encounter in southern kashmir the shootout took place at dora village some kilometers south of the kashmiri summer capital srinagar the deaths came as pakistani police arrested more than two dozen militants from extremist groups accused of staging an attack on india parliament india has accused pakistan based lashkar taiba and jaish mohammad of carrying out the attack on december at the behest of pakistani military intelligence military tensions have soared since the raid with both sides massing troops along their border and trading tit for tat diplomatic sanctions yesterday pakistan announced it had arrested lashkar taiba chief hafiz mohammed saeed police in karachi say it is likely more raids will be launched against the two groups as well as other militant organisations accused of targetting india military tensions between india and pakistan have escalated to level not seen since their war\"\n",
            "\n",
            "MEDIAN (0, 0.19089862704277039): \"hundreds of people have been forced to vacate their homes in the southern highlands of new south wales as strong winds today pushed huge bushfire towards the town of hill top new blaze near goulburn south west of sydney has forced the closure of the hume highway at about pm aedt marked deterioration in the weather as storm cell moved east across the blue mountains forced authorities to make decision to evacuate people from homes in outlying streets at hill top in the new south wales southern highlands an estimated residents have left their homes for nearby mittagong the new south wales rural fire service says the weather conditions which caused the fire to burn in finger formation have now eased and about fire units in and around hill top are optimistic of defending all properties as more than blazes burn on new year eve in new south wales fire crews have been called to new fire at gunning south of goulburn while few details are available at this stage fire authorities says it has closed the hume highway in both directions meanwhile new fire in sydney west is no longer threatening properties in the cranebrook area rain has fallen in some parts of the illawarra sydney the hunter valley and the north coast but the bureau of meteorology claire richards says the rain has done little to ease any of the hundred fires still burning across the state the falls have been quite isolated in those areas and generally the falls have been less than about five millimetres she said in some places really not significant at all less than millimetre so there hasn been much relief as far as rain is concerned in fact they ve probably hampered the efforts of the firefighters more because of the wind gusts that are associated with those thunderstorms\"\n",
            "\n",
            "LEAST (99, -0.16664505004882812): \"the civil aviation safety authority casa says it has already warned operators of piston engined aircraft of the potential dangers of running engines with an overly lean fuel mixture the recommendation is key feature of the transport safety bureau main report into last year fatal whyalla airlines crash in south australia spencer gulf the australian transport safety bureau today released its report into the crash which killed eight people in may last year the report has ruled out pilot error saying mechanical failures in both engines forced the pilot of the plane to ditch the aircraft the civil aviation safety authority says it is already acting on four safety improvement recommendations with further regulation changes due before the end of the year the authority says it has also begun to encourage conservative fuel leaning other recommendations relating to operating and maintenance procedures for high powered piston engines and procedures for ditching aircraft are still to be investigated by casa before formal response is released meanwhile the husband of crash victim teresa pawlik says he is yet to digest the full report but is relieved it has been completed wal pawlik says he and his family are still coming to terms with the loss you carry on don you think it been much more difficult for my daughters that about all can say on that he said\"\n",
            "\n"
          ],
          "name": "stdout"
        },
        {
          "output_type": "stream",
          "text": [
            "/usr/local/lib/python3.6/dist-packages/gensim/matutils.py:737: FutureWarning: Conversion of the second argument of issubdtype from `int` to `np.signedinteger` is deprecated. In future, it will be treated as `np.int64 == np.dtype(int).type`.\n",
            "  if np.issubdtype(vec.dtype, np.int):\n"
          ],
          "name": "stderr"
        }
      ]
    }
  ]
}