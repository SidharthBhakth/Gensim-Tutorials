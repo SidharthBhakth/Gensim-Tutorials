{
  "nbformat": 4,
  "nbformat_minor": 0,
  "metadata": {
    "colab": {
      "name": "4. Similarity Queries.ipynb",
      "provenance": [],
      "collapsed_sections": [],
      "authorship_tag": "ABX9TyN/xnbcleQbM91gBlcwH3XP"
    },
    "kernelspec": {
      "name": "python3",
      "display_name": "Python 3"
    }
  },
  "cells": [
    {
      "cell_type": "markdown",
      "metadata": {
        "id": "CyPZKf5h06AB",
        "colab_type": "text"
      },
      "source": [
        "# Similarity Queries"
      ]
    },
    {
      "cell_type": "code",
      "metadata": {
        "id": "3OREfraJ05YG",
        "colab_type": "code",
        "colab": {}
      },
      "source": [
        "from pprint import pprint\n",
        "from collections import defaultdict\n",
        "from gensim import corpora, models, similarities"
      ],
      "execution_count": 0,
      "outputs": []
    },
    {
      "cell_type": "markdown",
      "metadata": {
        "id": "wflAACPa0xj1",
        "colab_type": "text"
      },
      "source": [
        "### **Creating the Corpus**"
      ]
    },
    {
      "cell_type": "code",
      "metadata": {
        "id": "m3M9Avx00ucd",
        "colab_type": "code",
        "colab": {}
      },
      "source": [
        "documents = [\"Human machine interface for lab abc computer applications\",\n",
        "              \"A survey of user opinion of computer system response time\",\n",
        "              \"The EPS user interface management system\",\n",
        "              \"System and human system engineering testing of EPS\",\n",
        "              \"Relation of user perceived response time to error measurement\",\n",
        "              \"The generation of random binary unordered trees\",\n",
        "              \"The intersection graph of paths in trees\",\n",
        "              \"Graph minors IV Widths of trees and well quasi ordering\",\n",
        "              \"Graph minors A survey\"]"
      ],
      "execution_count": 0,
      "outputs": []
    },
    {
      "cell_type": "code",
      "metadata": {
        "id": "wxyRZIa91P-7",
        "colab_type": "code",
        "colab": {
          "base_uri": "https://localhost:8080/",
          "height": 168
        },
        "outputId": "adb6374b-145c-4b0c-db77-fd6363da3862"
      },
      "source": [
        "# remove common words and tokenize\n",
        "stopwords = set('for a of the and to in'.split())\n",
        "\n",
        "texts = [ [ word for word in document.lower().split() if word not in stopwords ] for document in documents ]\n",
        "\n",
        "# remove words that appear only once\n",
        "frequency = defaultdict(int)\n",
        "for text in texts:\n",
        "  for token in text:\n",
        "    frequency[token] += 1\n",
        "\n",
        "texts = [ [token for token in text if frequency[token] > 1] for text in texts ]\n",
        "\n",
        "# Map each word in corpus to a unique integer ID\n",
        "dictionary = corpora.Dictionary(texts)\n",
        "\n",
        "# Build corpus with BoW representation\n",
        "corpus = [ dictionary.doc2bow(text) for text in texts ]\n",
        "\n",
        "pprint(corpus)"
      ],
      "execution_count": 3,
      "outputs": [
        {
          "output_type": "stream",
          "text": [
            "[[(0, 1), (1, 1), (2, 1)],\n",
            " [(0, 1), (3, 1), (4, 1), (5, 1), (6, 1), (7, 1)],\n",
            " [(2, 1), (5, 1), (7, 1), (8, 1)],\n",
            " [(1, 1), (5, 2), (8, 1)],\n",
            " [(3, 1), (6, 1), (7, 1)],\n",
            " [(9, 1)],\n",
            " [(9, 1), (10, 1)],\n",
            " [(9, 1), (10, 1), (11, 1)],\n",
            " [(4, 1), (10, 1), (11, 1)]]\n"
          ],
          "name": "stdout"
        }
      ]
    },
    {
      "cell_type": "markdown",
      "metadata": {
        "id": "ZisbJBng1W4l",
        "colab_type": "text"
      },
      "source": [
        "### **Similarity interface**"
      ]
    },
    {
      "cell_type": "code",
      "metadata": {
        "id": "M8bAYris1WC5",
        "colab_type": "code",
        "colab": {}
      },
      "source": [
        "# Initialize a 2-dimensioanl LSI transformation\n",
        "lsi = models.LsiModel(corpus, id2word=dictionary, num_topics=2)"
      ],
      "execution_count": 0,
      "outputs": []
    },
    {
      "cell_type": "code",
      "metadata": {
        "id": "7CFQJdPn3-4r",
        "colab_type": "code",
        "colab": {
          "base_uri": "https://localhost:8080/",
          "height": 34
        },
        "outputId": "503719d4-1972-4cbd-c11f-d0814947b85f"
      },
      "source": [
        "# Create a 'query document' and transform it to a BoW representation\n",
        "doc = \"Human computer interaction\"\n",
        "vec_bow = dictionary.doc2bow(doc.lower().split())\n",
        "print(vec_bow)"
      ],
      "execution_count": 5,
      "outputs": [
        {
          "output_type": "stream",
          "text": [
            "[(0, 1), (1, 1)]\n"
          ],
          "name": "stdout"
        }
      ]
    },
    {
      "cell_type": "code",
      "metadata": {
        "id": "N1VNR1LL4Swy",
        "colab_type": "code",
        "colab": {
          "base_uri": "https://localhost:8080/",
          "height": 34
        },
        "outputId": "74570311-e6b6-44dc-a851-e21ededc4dad"
      },
      "source": [
        "# Convert query to 2-D LSI space\n",
        "vec_lsi = lsi[vec_bow]\n",
        "print(vec_lsi)"
      ],
      "execution_count": 6,
      "outputs": [
        {
          "output_type": "stream",
          "text": [
            "[(0, 0.4618210045327156), (1, -0.07002766527900048)]\n"
          ],
          "name": "stdout"
        }
      ]
    },
    {
      "cell_type": "markdown",
      "metadata": {
        "id": "a06FiIQK49gX",
        "colab_type": "text"
      },
      "source": [
        "***Initializing query structures***"
      ]
    },
    {
      "cell_type": "code",
      "metadata": {
        "id": "C-rCVzar5DqF",
        "colab_type": "code",
        "colab": {
          "base_uri": "https://localhost:8080/",
          "height": 70
        },
        "outputId": "7fdce640-878f-4f4b-c07e-cfcaf58dd41f"
      },
      "source": [
        "# Build index of document cosine similarities\n",
        "index = similarities.MatrixSimilarity(lsi[corpus])"
      ],
      "execution_count": 7,
      "outputs": [
        {
          "output_type": "stream",
          "text": [
            "/usr/local/lib/python3.6/dist-packages/gensim/matutils.py:737: FutureWarning: Conversion of the second argument of issubdtype from `int` to `np.signedinteger` is deprecated. In future, it will be treated as `np.int64 == np.dtype(int).type`.\n",
            "  if np.issubdtype(vec.dtype, np.int):\n"
          ],
          "name": "stderr"
        }
      ]
    },
    {
      "cell_type": "code",
      "metadata": {
        "id": "JRiEkJZP5RNw",
        "colab_type": "code",
        "colab": {
          "base_uri": "https://localhost:8080/",
          "height": 70
        },
        "outputId": "19a15f43-98ed-460a-976c-4a2d80f292fa"
      },
      "source": [
        "# Save and load for index persistency\n",
        "index.save('/deerwester.index')\n",
        "index = similarities.MatrixSimilarity.load('/deerwester.index')"
      ],
      "execution_count": 8,
      "outputs": [
        {
          "output_type": "stream",
          "text": [
            "/usr/local/lib/python3.6/dist-packages/smart_open/smart_open_lib.py:253: UserWarning: This function is deprecated, use smart_open.open instead. See the migration notes for details: https://github.com/RaRe-Technologies/smart_open/blob/master/README.rst#migrating-to-the-new-open-function\n",
            "  'See the migration notes for details: %s' % _MIGRATION_NOTES_URL\n"
          ],
          "name": "stderr"
        }
      ]
    },
    {
      "cell_type": "markdown",
      "metadata": {
        "id": "EIdlCQpm6wKn",
        "colab_type": "text"
      },
      "source": [
        "***Performing queries***"
      ]
    },
    {
      "cell_type": "code",
      "metadata": {
        "id": "OYctajGd6t1u",
        "colab_type": "code",
        "colab": {
          "base_uri": "https://localhost:8080/",
          "height": 168
        },
        "outputId": "1e7b31e7-53de-47d6-efb8-9e37d9433ea1"
      },
      "source": [
        "# Perform a similarity query of the 'query document' against the corpus\n",
        "sims = index[vec_lsi]\n",
        "\n",
        "# Sort in descending order of similarities\n",
        "sims = sorted(enumerate(sims), key=lambda item : -item[1])\n",
        "\n",
        "for i, s in enumerate(sims):\n",
        "  print(s, documents[i])"
      ],
      "execution_count": 9,
      "outputs": [
        {
          "output_type": "stream",
          "text": [
            "(2, 0.9984453) Human machine interface for lab abc computer applications\n",
            "(0, 0.998093) A survey of user opinion of computer system response time\n",
            "(3, 0.9865886) The EPS user interface management system\n",
            "(1, 0.93748635) System and human system engineering testing of EPS\n",
            "(4, 0.90755945) Relation of user perceived response time to error measurement\n",
            "(8, 0.050041765) The generation of random binary unordered trees\n",
            "(7, -0.09879464) The intersection graph of paths in trees\n",
            "(6, -0.10639259) Graph minors IV Widths of trees and well quasi ordering\n",
            "(5, -0.12416792) Graph minors A survey\n"
          ],
          "name": "stdout"
        }
      ]
    }
  ]
}